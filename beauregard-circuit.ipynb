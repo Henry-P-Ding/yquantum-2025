{
 "cells": [
  {
   "cell_type": "code",
   "execution_count": 1,
   "metadata": {},
   "outputs": [],
   "source": [
    "from qiskit import QuantumCircuit, transpile, QuantumRegister, ClassicalRegister, AncillaRegister\n",
    "from qiskit.visualization import plot_histogram\n",
    "from matplotlib import pyplot as plt\n",
    "import numpy as np\n",
    "\n",
    "from QuantumRingsLib import QuantumRingsProvider\n",
    "from quantumrings.toolkit.qiskit import QrBackendV2"
   ]
  },
  {
   "cell_type": "code",
   "execution_count": 2,
   "metadata": {},
   "outputs": [],
   "source": [
    "# load API keys\n",
    "from dotenv import load_dotenv\n",
    "import os\n",
    "\n",
    "load_dotenv()\n",
    "QR_TOKEN = os.getenv(\"QR_TOKEN\")\n",
    "QR_NAME = os.getenv(\"QR_NAME\")\n",
    "\n",
    "# Acquire the Quantum Rings Provider\n",
    "qr_provider = QuantumRingsProvider(token=QR_TOKEN, name=QR_NAME)"
   ]
  },
  {
   "cell_type": "code",
   "execution_count": 3,
   "metadata": {},
   "outputs": [],
   "source": [
    "def egcd(a, b):\n",
    "    if a == 0:\n",
    "        return (b, 0, 1)\n",
    "    else:\n",
    "        g, y, x = egcd(b % a, a)\n",
    "        return (g, x - (b // a) * y, y)\n",
    "\n",
    "def modinv(a, m):\n",
    "    g, x, y = egcd(a, m)\n",
    "    if g != 1:\n",
    "        raise Exception('modular inverse does not exist')\n",
    "    else:\n",
    "        return x % m"
   ]
  },
  {
   "cell_type": "code",
   "execution_count": 4,
   "metadata": {},
   "outputs": [],
   "source": [
    "def getAngles(a,N):\n",
    "    s=bin(int(a))[2:].zfill(N) \n",
    "    angles=np.zeros([N])\n",
    "    for i in range(0, N):\n",
    "        for j in range(i,N):\n",
    "            if s[j]=='1':\n",
    "                angles[N-i-1]+=np.power(2.0, -(j-i))\n",
    "        angles[N-i-1]*=np.pi\n",
    "    return angles\n",
    "\n",
    "\"\"\"Creation of a doubly controlled phase gate\"\"\"\n",
    "def ccphase(circuit,angle,ctl1,ctl2,tgt):\n",
    "    # TODO: check if this is the same\n",
    "    #circuit.cu1(angle/2,ctl1,tgt)\n",
    "    circuit.cp(angle/2,ctl1,tgt)\n",
    "    circuit.cx(ctl2,ctl1)\n",
    "    #circuit.cu1(-angle/2,ctl1,tgt)\n",
    "    circuit.cp(-angle/2,ctl1,tgt)\n",
    "    circuit.cx(ctl2,ctl1)\n",
    "    #circuit.cu1(angle/2,ctl2,tgt)\n",
    "    circuit.cp(angle/2,ctl2,tgt)"
   ]
  },
  {
   "cell_type": "code",
   "execution_count": 5,
   "metadata": {},
   "outputs": [],
   "source": [
    "def create_QFT(circuit : QuantumCircuit, up_reg : QuantumRegister, n, with_swaps):\n",
    "    i = n - 1\n",
    "    \"\"\" Apply the H gates and Cphases\"\"\"\n",
    "    \"\"\" The Cphases with |angle| < threshold are not created because they do \n",
    "    nothing. The threshold is put as being 0 so all CPhases are created,\n",
    "    but the clause is there so if wanted just need to change the 0 of the\n",
    "    if-clause to the desired value \"\"\"\n",
    "    while i >= 0:\n",
    "        circuit.h(up_reg[i])\n",
    "        j = i - 1\n",
    "        while j >= 0:\n",
    "            if (np.pi) / (pow(2, (i - j))) > 0:\n",
    "                # TODO: check cp cu1\n",
    "                #circuit.cu1((np.pi) / (pow(2, (i - j))), up_reg[i], up_reg[j])\n",
    "                circuit.cp((np.pi) / (pow(2, (i - j))), up_reg[i], up_reg[j])\n",
    "                j = j - 1\n",
    "        i = i - 1\n",
    "\n",
    "    \"\"\" If specified, apply the Swaps at the end \"\"\"\n",
    "    if with_swaps == 1:\n",
    "        i = 0\n",
    "        while i < ((n - 1) / 2):\n",
    "            circuit.swap(up_reg[i], up_reg[n - 1 - i])\n",
    "            i = i + 1\n",
    "\n",
    "def create_inverse_QFT(circuit, up_reg, n, with_swaps):\n",
    "    \"\"\"If specified, apply the Swaps at the beggining\"\"\"\n",
    "    if with_swaps == 1:\n",
    "        i = 0\n",
    "        while i < ((n - 1) / 2):\n",
    "            circuit.swap(up_reg[i], up_reg[n - 1 - i])\n",
    "            i = i + 1\n",
    "\n",
    "    \"\"\" Apply the H gates and Cphases\"\"\"\n",
    "    \"\"\" The Cphases with |angle| < threshold are not created because they do \n",
    "    nothing. The threshold is put as being 0 so all CPhases are created,\n",
    "    but the clause is there so if wanted just need to change the 0 of the\n",
    "    if-clause to the desired value \"\"\"\n",
    "    i = 0\n",
    "    while i < n:\n",
    "        circuit.h(up_reg[i])\n",
    "        if i != n - 1:\n",
    "            j = i + 1\n",
    "            y = i\n",
    "            while y >= 0:\n",
    "                if (np.pi) / (pow(2, (j - y))) > 0:\n",
    "                    # TODO: check cu1 u1\n",
    "                    #circuit.cu1(-(np.pi) / (pow(2, (j - y))), up_reg[j], up_reg[y])\n",
    "                    circuit.cp(-(np.pi) / (pow(2, (j - y))), up_reg[j], up_reg[y])\n",
    "                    y = y - 1\n",
    "        i = i + 1"
   ]
  },
  {
   "cell_type": "code",
   "execution_count": 6,
   "metadata": {},
   "outputs": [],
   "source": [
    "\"\"\"Creation of the circuit that performs addition by a in Fourier Space\"\"\"\n",
    "\n",
    "\"\"\"Can also be used for subtraction by setting the parameter inv to a value different from 0\"\"\"\n",
    "\n",
    "\n",
    "def phiADD(circuit, q, a, N, inv):\n",
    "    angle = getAngles(a, N)\n",
    "    for i in range(0, N):\n",
    "        # TODO: check u1 p\n",
    "        if inv == 0:\n",
    "            #circuit.u1(angle[i], q[i])\n",
    "            circuit.p(angle[i], q[i])\n",
    "        else:\n",
    "            #circuit.u1(-angle[i], q[i])\n",
    "            circuit.p(-angle[i], q[i])\n",
    "\n",
    "\n",
    "\"\"\"Single controlled version of the phiADD circuit\"\"\"\n",
    "\n",
    "\n",
    "def cphiADD(circuit, q, ctl, a, n, inv):\n",
    "    angle = getAngles(a, n)\n",
    "    for i in range(0, n):\n",
    "        # TODO: check cp cu1\n",
    "        if inv == 0:\n",
    "            #circuit.cu1(angle[i], ctl, q[i])\n",
    "            circuit.cp(angle[i], ctl, q[i])\n",
    "        else:\n",
    "            #circuit.cu1(-angle[i], ctl, q[i])\n",
    "            circuit.cp(-angle[i], ctl, q[i])\n",
    "\n",
    "\n",
    "\"\"\"Doubly controlled version of the phiADD circuit\"\"\"\n",
    "\n",
    "\n",
    "def ccphiADD(circuit, q, ctl1, ctl2, a, n, inv):\n",
    "    angle = getAngles(a, n)\n",
    "    for i in range(0, n):\n",
    "        if inv == 0:\n",
    "            ccphase(circuit, angle[i], ctl1, ctl2, q[i])\n",
    "        else:\n",
    "            ccphase(circuit, -angle[i], ctl1, ctl2, q[i])\n",
    "\n",
    "\n",
    "\"\"\"Circuit that implements doubly controlled modular addition by a\"\"\"\n",
    "\n",
    "\n",
    "def ccphiADDmodN(circuit, q, ctl1, ctl2, aux, a, N, n):\n",
    "    ccphiADD(circuit, q, ctl1, ctl2, a, n, 0)\n",
    "    phiADD(circuit, q, N, n, 1)\n",
    "    create_inverse_QFT(circuit, q, n, 0)\n",
    "    circuit.cx(q[n - 1], aux)\n",
    "    create_QFT(circuit, q, n, 0)\n",
    "    cphiADD(circuit, q, aux, N, n, 0)\n",
    "\n",
    "    ccphiADD(circuit, q, ctl1, ctl2, a, n, 1)\n",
    "    create_inverse_QFT(circuit, q, n, 0)\n",
    "    circuit.x(q[n - 1])\n",
    "    circuit.cx(q[n - 1], aux)\n",
    "    circuit.x(q[n - 1])\n",
    "    create_QFT(circuit, q, n, 0)\n",
    "    ccphiADD(circuit, q, ctl1, ctl2, a, n, 0)\n",
    "\n",
    "\n",
    "\"\"\"Circuit that implements the inverse of doubly controlled modular addition by a\"\"\"\n",
    "\n",
    "\n",
    "def ccphiADDmodN_inv(circuit, q, ctl1, ctl2, aux, a, N, n):\n",
    "    ccphiADD(circuit, q, ctl1, ctl2, a, n, 1)\n",
    "    create_inverse_QFT(circuit, q, n, 0)\n",
    "    circuit.x(q[n - 1])\n",
    "    circuit.cx(q[n - 1], aux)\n",
    "    circuit.x(q[n - 1])\n",
    "    create_QFT(circuit, q, n, 0)\n",
    "    ccphiADD(circuit, q, ctl1, ctl2, a, n, 0)\n",
    "    cphiADD(circuit, q, aux, N, n, 1)\n",
    "    create_inverse_QFT(circuit, q, n, 0)\n",
    "    circuit.cx(q[n - 1], aux)\n",
    "    create_QFT(circuit, q, n, 0)\n",
    "    phiADD(circuit, q, N, n, 0)\n",
    "    ccphiADD(circuit, q, ctl1, ctl2, a, n, 1)"
   ]
  },
  {
   "cell_type": "code",
   "execution_count": 7,
   "metadata": {},
   "outputs": [],
   "source": [
    "def cMULTmodN(circuit : QuantumCircuit, ctl, q, aux, a, semiprime, circuit_size):\n",
    "    create_QFT(circuit,aux,circuit_size+1,0)\n",
    "    \"\"\"Circuit that implements single controlled modular multiplication by a\"\"\"\n",
    "    for i in range(0, circuit_size):\n",
    "        ccphiADDmodN(circuit, aux, q[i], ctl, aux[circuit_size+1], (2**i)*a % semiprime, semiprime, circuit_size+1)\n",
    "    create_inverse_QFT(circuit, aux, circuit_size+1, 0)\n",
    "\n",
    "    for i in range(0, circuit_size):\n",
    "        circuit.cswap(ctl,q[i],aux[i])\n",
    "\n",
    "    a_inv = modinv(a, semiprime)\n",
    "    create_QFT(circuit, aux, circuit_size+1, 0)\n",
    "    i = circuit_size - 1\n",
    "    while i >= 0:\n",
    "        ccphiADDmodN_inv(circuit, aux, q[i], ctl, aux[circuit_size+1], np.power(2,i) * a_inv % semiprime, semiprime, circuit_size+1)\n",
    "        i -= 1\n",
    "    create_inverse_QFT(circuit, aux, circuit_size+1, 0)\n"
   ]
  },
  {
   "cell_type": "code",
   "execution_count": 8,
   "metadata": {},
   "outputs": [],
   "source": [
    "semiprime = 15\n",
    "base = 7 # TODO: implement coprime checker\n",
    "circuit_size = np.ceil(np.log2(semiprime)).astype(int)"
   ]
  },
  {
   "cell_type": "code",
   "execution_count": 9,
   "metadata": {},
   "outputs": [],
   "source": [
    "# auxilliary quantum register used in addition and multiplication\n",
    "aux = QuantumRegister(circuit_size+2)\n",
    "# quantum register where the sequential QFT is performed\n",
    "up_reg = QuantumRegister(2*circuit_size)\n",
    "# quantum register where the multiplications are made\n",
    "down_reg = QuantumRegister(circuit_size)\n",
    "# classical register where the measured values of the QFT are stored\n",
    "up_classic = ClassicalRegister(2*circuit_size)"
   ]
  },
  {
   "cell_type": "code",
   "execution_count": 10,
   "metadata": {},
   "outputs": [
    {
     "data": {
      "text/plain": [
       "<qiskit.circuit.instructionset.InstructionSet at 0x10c597f70>"
      ]
     },
     "execution_count": 10,
     "metadata": {},
     "output_type": "execute_result"
    }
   ],
   "source": [
    "circuit = QuantumCircuit(down_reg, up_reg, aux, up_classic)\n",
    "# Initialize down register to 1 and create maximal superposition in top register\n",
    "circuit.h(up_reg)\n",
    "circuit.x(down_reg[0])"
   ]
  },
  {
   "cell_type": "code",
   "execution_count": 11,
   "metadata": {},
   "outputs": [],
   "source": [
    "# Apply the multiplication gates as showed in the report in order to create the exponentiation \"\"\"\n",
    "for i in range(0, 2*circuit_size):\n",
    "    cMULTmodN(circuit, up_reg[i], down_reg, aux, int(pow(base, pow(2, i))), semiprime, circuit_size)"
   ]
  },
  {
   "cell_type": "code",
   "execution_count": 12,
   "metadata": {},
   "outputs": [],
   "source": [
    "# Apply inverse QFT\n",
    "create_inverse_QFT(circuit, up_reg, 2 * circuit_size, 1)"
   ]
  },
  {
   "cell_type": "code",
   "execution_count": 13,
   "metadata": {},
   "outputs": [
    {
     "data": {
      "text/plain": [
       "<qiskit.circuit.instructionset.InstructionSet at 0x10c390a00>"
      ]
     },
     "execution_count": 13,
     "metadata": {},
     "output_type": "execute_result"
    }
   ],
   "source": [
    "# Measure the top qubits, to get period \n",
    "circuit.measure(up_reg,up_classic)"
   ]
  },
  {
   "cell_type": "code",
   "execution_count": 14,
   "metadata": {},
   "outputs": [
    {
     "data": {
      "text/plain": [
       "18"
      ]
     },
     "execution_count": 14,
     "metadata": {},
     "output_type": "execute_result"
    }
   ],
   "source": [
    "circuit.num_qubits"
   ]
  },
  {
   "cell_type": "code",
   "execution_count": 15,
   "metadata": {},
   "outputs": [],
   "source": [
    "# transpile circuit to Quantum Rings backend\n",
    "qr_backend = QrBackendV2(qr_provider, num_qubits = circuit.num_qubits)\n",
    "qc_transpiled = transpile(circuit, qr_backend, initial_layout=[i for i in range(0, circuit.num_qubits)])"
   ]
  },
  {
   "cell_type": "code",
   "execution_count": 16,
   "metadata": {},
   "outputs": [],
   "source": [
    "# Execute the quantum code\n",
    "job = qr_backend.run(qc_transpiled, shots = 1024)"
   ]
  },
  {
   "cell_type": "code",
   "execution_count": 17,
   "metadata": {},
   "outputs": [
    {
     "data": {
      "image/png": "[encoded data removed]",
      "text/plain": [
       "<Figure size 640x480 with 1 Axes>"
      ]
     },
     "execution_count": 17,
     "metadata": {},
     "output_type": "execute_result"
    }
   ],
   "source": [
    "result = job.result()\n",
    "counts = result.get_counts()\n",
    "plot_histogram(counts)"
   ]
  }
 ],
 "metadata": {
  "kernelspec": {
   "display_name": ".venv",
   "language": "python",
   "name": "python3"
  },
  "language_info": {
   "codemirror_mode": {
    "name": "ipython",
    "version": 3
   },
   "file_extension": ".py",
   "mimetype": "text/x-python",
   "name": "python",
   "nbconvert_exporter": "python",
   "pygments_lexer": "ipython3",
   "version": "3.13.2"
  }
 },
 "nbformat": 4,
 "nbformat_minor": 2
}
