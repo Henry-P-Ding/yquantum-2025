{
  "cells": [
    {
      "cell_type": "code",
      "source": [
        "!pip install QuantumRingsLib\n",
        "!pip install qiskit==1.3.1\n",
        "!pip install quantumrings-toolkit-qiskit"
      ],
      "metadata": {
        "colab": {
          "base_uri": "https://localhost:8080/"
        },
        "id": "d32y7shs7ltG",
        "outputId": "7a53319c-d8f2-494c-d123-fd4f64fb525e"
      },
      "execution_count": 67,
      "outputs": [
        {
          "output_type": "stream",
          "name": "stdout",
          "text": [
            "Requirement already satisfied: QuantumRingsLib in /usr/local/lib/python3.11/dist-packages (0.9.11)\n",
            "Requirement already satisfied: qiskit==1.3.1 in /usr/local/lib/python3.11/dist-packages (1.3.1)\n",
            "Requirement already satisfied: rustworkx>=0.15.0 in /usr/local/lib/python3.11/dist-packages (from qiskit==1.3.1) (0.16.0)\n",
            "Requirement already satisfied: numpy<3,>=1.17 in /usr/local/lib/python3.11/dist-packages (from qiskit==1.3.1) (2.0.2)\n",
            "Requirement already satisfied: scipy>=1.5 in /usr/local/lib/python3.11/dist-packages (from qiskit==1.3.1) (1.14.1)\n",
            "Requirement already satisfied: sympy>=1.3 in /usr/local/lib/python3.11/dist-packages (from qiskit==1.3.1) (1.13.1)\n",
            "Requirement already satisfied: dill>=0.3 in /usr/local/lib/python3.11/dist-packages (from qiskit==1.3.1) (0.3.9)\n",
            "Requirement already satisfied: python-dateutil>=2.8.0 in /usr/local/lib/python3.11/dist-packages (from qiskit==1.3.1) (2.8.2)\n",
            "Requirement already satisfied: stevedore>=3.0.0 in /usr/local/lib/python3.11/dist-packages (from qiskit==1.3.1) (5.4.1)\n",
            "Requirement already satisfied: typing-extensions in /usr/local/lib/python3.11/dist-packages (from qiskit==1.3.1) (4.13.1)\n",
            "Requirement already satisfied: symengine<0.14,>=0.11 in /usr/local/lib/python3.11/dist-packages (from qiskit==1.3.1) (0.13.0)\n",
            "Requirement already satisfied: six>=1.5 in /usr/local/lib/python3.11/dist-packages (from python-dateutil>=2.8.0->qiskit==1.3.1) (1.17.0)\n",
            "Requirement already satisfied: pbr>=2.0.0 in /usr/local/lib/python3.11/dist-packages (from stevedore>=3.0.0->qiskit==1.3.1) (6.1.1)\n",
            "Requirement already satisfied: mpmath<1.4,>=1.1.0 in /usr/local/lib/python3.11/dist-packages (from sympy>=1.3->qiskit==1.3.1) (1.3.0)\n",
            "Requirement already satisfied: setuptools in /usr/local/lib/python3.11/dist-packages (from pbr>=2.0.0->stevedore>=3.0.0->qiskit==1.3.1) (75.2.0)\n",
            "Requirement already satisfied: quantumrings-toolkit-qiskit in /usr/local/lib/python3.11/dist-packages (0.1.10)\n",
            "Requirement already satisfied: numpy in /usr/local/lib/python3.11/dist-packages (from quantumrings-toolkit-qiskit) (2.0.2)\n",
            "Requirement already satisfied: qiskit in /usr/local/lib/python3.11/dist-packages (from quantumrings-toolkit-qiskit) (1.3.1)\n",
            "Requirement already satisfied: QuantumRingsLib in /usr/local/lib/python3.11/dist-packages (from quantumrings-toolkit-qiskit) (0.9.11)\n",
            "Requirement already satisfied: rustworkx>=0.15.0 in /usr/local/lib/python3.11/dist-packages (from qiskit->quantumrings-toolkit-qiskit) (0.16.0)\n",
            "Requirement already satisfied: scipy>=1.5 in /usr/local/lib/python3.11/dist-packages (from qiskit->quantumrings-toolkit-qiskit) (1.14.1)\n",
            "Requirement already satisfied: sympy>=1.3 in /usr/local/lib/python3.11/dist-packages (from qiskit->quantumrings-toolkit-qiskit) (1.13.1)\n",
            "Requirement already satisfied: dill>=0.3 in /usr/local/lib/python3.11/dist-packages (from qiskit->quantumrings-toolkit-qiskit) (0.3.9)\n",
            "Requirement already satisfied: python-dateutil>=2.8.0 in /usr/local/lib/python3.11/dist-packages (from qiskit->quantumrings-toolkit-qiskit) (2.8.2)\n",
            "Requirement already satisfied: stevedore>=3.0.0 in /usr/local/lib/python3.11/dist-packages (from qiskit->quantumrings-toolkit-qiskit) (5.4.1)\n",
            "Requirement already satisfied: typing-extensions in /usr/local/lib/python3.11/dist-packages (from qiskit->quantumrings-toolkit-qiskit) (4.13.1)\n",
            "Requirement already satisfied: symengine<0.14,>=0.11 in /usr/local/lib/python3.11/dist-packages (from qiskit->quantumrings-toolkit-qiskit) (0.13.0)\n",
            "Requirement already satisfied: six>=1.5 in /usr/local/lib/python3.11/dist-packages (from python-dateutil>=2.8.0->qiskit->quantumrings-toolkit-qiskit) (1.17.0)\n",
            "Requirement already satisfied: pbr>=2.0.0 in /usr/local/lib/python3.11/dist-packages (from stevedore>=3.0.0->qiskit->quantumrings-toolkit-qiskit) (6.1.1)\n",
            "Requirement already satisfied: mpmath<1.4,>=1.1.0 in /usr/local/lib/python3.11/dist-packages (from sympy>=1.3->qiskit->quantumrings-toolkit-qiskit) (1.3.0)\n",
            "Requirement already satisfied: setuptools in /usr/local/lib/python3.11/dist-packages (from pbr>=2.0.0->stevedore>=3.0.0->qiskit->quantumrings-toolkit-qiskit) (75.2.0)\n"
          ]
        }
      ]
    },
    {
      "cell_type": "code",
      "execution_count": 68,
      "metadata": {
        "id": "NKODzIv37lCJ"
      },
      "outputs": [],
      "source": [
        "from qiskit import QuantumCircuit, transpile, QuantumRegister, ClassicalRegister, AncillaRegister\n",
        "from qiskit.visualization import plot_histogram\n",
        "from matplotlib import pyplot as plt\n",
        "import numpy as np\n",
        "import array\n",
        "import math\n",
        "import fractions\n",
        "\n",
        "from QuantumRingsLib import QuantumRingsProvider\n",
        "from quantumrings.toolkit.qiskit import QrBackendV2"
      ]
    },
    {
      "cell_type": "code",
      "execution_count": 69,
      "metadata": {
        "colab": {
          "base_uri": "https://localhost:8080/"
        },
        "id": "MKvTUD4X7lCL",
        "outputId": "0c3c1992-26de-4918-cbe3-1c88637b75bb"
      },
      "outputs": [
        {
          "output_type": "stream",
          "name": "stdout",
          "text": [
            "Account Name:  khang.tran@princeton.edu \n",
            "Max Qubits:  128\n",
            "{'khang.tran@princeton.edu': 'rings-128.tFp5jv833mIYtWvhAcPilxZNHO0MGRw1'}\n"
          ]
        }
      ],
      "source": [
        "#Acquire the Quantum Rings Provider\n",
        "provider = QuantumRingsProvider(\n",
        "    token='rings-128.tFp5jv833mIYtWvhAcPilxZNHO0MGRw1',\n",
        "    name='khang.tran@princeton.edu'\n",
        ")\n",
        "print(\"Account Name: \", provider.active_account()[\"name\"], \"\\nMax Qubits: \", provider.active_account()[\"max_qubits\"])\n",
        "\n",
        "\n",
        "#Save the account locally.\n",
        "provider.save_account(\n",
        "    token='rings-128.tFp5jv833mIYtWvhAcPilxZNHO0MGRw1',\n",
        "    name='khang.tran@princeton.edu')\n",
        "print(provider.saved_accounts(False, \"default\"))"
      ]
    },
    {
      "cell_type": "code",
      "execution_count": 70,
      "metadata": {
        "id": "0uUVWUS07lCM"
      },
      "outputs": [],
      "source": [
        "def egcd(a, b):\n",
        "    if a == 0:\n",
        "        return (b, 0, 1)\n",
        "    else:\n",
        "        g, y, x = egcd(b % a, a)\n",
        "        return (g, x - (b // a) * y, y)\n",
        "\n",
        "def modinv(a, m):\n",
        "    g, x, y = egcd(a, m)\n",
        "    if g != 1:\n",
        "        raise Exception('modular inverse does not exist')\n",
        "    else:\n",
        "        return x % m"
      ]
    },
    {
      "cell_type": "code",
      "execution_count": 71,
      "metadata": {
        "id": "JMhxkRsg7lCM"
      },
      "outputs": [],
      "source": [
        "def getAngles(a,N):\n",
        "    s=bin(int(a))[2:].zfill(N)\n",
        "    angles=np.zeros([N])\n",
        "    for i in range(0, N):\n",
        "        for j in range(i,N):\n",
        "            if s[j]=='1':\n",
        "                angles[N-i-1]+=np.power(2.0, -(j-i))\n",
        "        angles[N-i-1]*=np.pi\n",
        "    return angles\n",
        "\n",
        "\"\"\"Creation of a doubly controlled phase gate\"\"\"\n",
        "def ccphase(circuit,angle,ctl1,ctl2,tgt):\n",
        "    # TODO: check if this is the same\n",
        "    #circuit.cu1(angle/2,ctl1,tgt)\n",
        "    circuit.cp(angle/2,ctl1,tgt)\n",
        "    circuit.cx(ctl2,ctl1)\n",
        "    #circuit.cu1(-angle/2,ctl1,tgt)\n",
        "    circuit.cp(-angle/2,ctl1,tgt)\n",
        "    circuit.cx(ctl2,ctl1)\n",
        "    #circuit.cu1(angle/2,ctl2,tgt)\n",
        "    circuit.cp(angle/2,ctl2,tgt)"
      ]
    },
    {
      "cell_type": "code",
      "execution_count": 72,
      "metadata": {
        "id": "SKefv3K77lCN"
      },
      "outputs": [],
      "source": [
        "def create_QFT(circuit : QuantumCircuit, up_reg : QuantumRegister, n, with_swaps):\n",
        "    i = n - 1\n",
        "    \"\"\" Apply the H gates and Cphases\"\"\"\n",
        "    \"\"\" The Cphases with |angle| < threshold are not created because they do\n",
        "    nothing. The threshold is put as being 0 so all CPhases are created,\n",
        "    but the clause is there so if wanted just need to change the 0 of the\n",
        "    if-clause to the desired value \"\"\"\n",
        "    while i >= 0:\n",
        "        circuit.h(up_reg[i])\n",
        "        j = i - 1\n",
        "        while j >= 0:\n",
        "            if (np.pi) / (pow(2, (i - j))) > 0:\n",
        "                # TODO: check cp cu1\n",
        "                #circuit.cu1((np.pi) / (pow(2, (i - j))), up_reg[i], up_reg[j])\n",
        "                circuit.cp((np.pi) / (pow(2, (i - j))), up_reg[i], up_reg[j])\n",
        "                j = j - 1\n",
        "        i = i - 1\n",
        "\n",
        "    \"\"\" If specified, apply the Swaps at the end \"\"\"\n",
        "    if with_swaps == 1:\n",
        "        i = 0\n",
        "        while i < ((n - 1) / 2):\n",
        "            circuit.swap(up_reg[i], up_reg[n - 1 - i])\n",
        "            i = i + 1\n",
        "\n",
        "def create_inverse_QFT(circuit, up_reg, n, with_swaps):\n",
        "    \"\"\"If specified, apply the Swaps at the beggining\"\"\"\n",
        "    if with_swaps == 1:\n",
        "        i = 0\n",
        "        while i < ((n - 1) / 2):\n",
        "            circuit.swap(up_reg[i], up_reg[n - 1 - i])\n",
        "            i = i + 1\n",
        "\n",
        "    \"\"\" Apply the H gates and Cphases\"\"\"\n",
        "    \"\"\" The Cphases with |angle| < threshold are not created because they do\n",
        "    nothing. The threshold is put as being 0 so all CPhases are created,\n",
        "    but the clause is there so if wanted just need to change the 0 of the\n",
        "    if-clause to the desired value \"\"\"\n",
        "    i = 0\n",
        "    while i < n:\n",
        "        circuit.h(up_reg[i])\n",
        "        if i != n - 1:\n",
        "            j = i + 1\n",
        "            y = i\n",
        "            while y >= 0:\n",
        "                if (np.pi) / (pow(2, (j - y))) > 0:\n",
        "                    # TODO: check cu1 u1\n",
        "                    #circuit.cu1(-(np.pi) / (pow(2, (j - y))), up_reg[j], up_reg[y])\n",
        "                    circuit.cp(-(np.pi) / (pow(2, (j - y))), up_reg[j], up_reg[y])\n",
        "                    y = y - 1\n",
        "        i = i + 1"
      ]
    },
    {
      "cell_type": "code",
      "execution_count": 73,
      "metadata": {
        "id": "QVfNO-Q27lCO"
      },
      "outputs": [],
      "source": [
        "\"\"\"Creation of the circuit that performs addition by a in Fourier Space\"\"\"\n",
        "\n",
        "\"\"\"Can also be used for subtraction by setting the parameter inv to a value different from 0\"\"\"\n",
        "\n",
        "\n",
        "def phiADD(circuit, q, a, N, inv):\n",
        "    angle = getAngles(a, N)\n",
        "    for i in range(0, N):\n",
        "        # TODO: check u1 p\n",
        "        if inv == 0:\n",
        "            #circuit.u1(angle[i], q[i])\n",
        "            circuit.p(angle[i], q[i])\n",
        "        else:\n",
        "            #circuit.u1(-angle[i], q[i])\n",
        "            circuit.p(-angle[i], q[i])\n",
        "\n",
        "\n",
        "\"\"\"Single controlled version of the phiADD circuit\"\"\"\n",
        "\n",
        "\n",
        "def cphiADD(circuit, q, ctl, a, n, inv):\n",
        "    angle = getAngles(a, n)\n",
        "    for i in range(0, n):\n",
        "        # TODO: check cp cu1\n",
        "        if inv == 0:\n",
        "            #circuit.cu1(angle[i], ctl, q[i])\n",
        "            circuit.cp(angle[i], ctl, q[i])\n",
        "        else:\n",
        "            #circuit.cu1(-angle[i], ctl, q[i])\n",
        "            circuit.cp(-angle[i], ctl, q[i])\n",
        "\n",
        "\n",
        "\"\"\"Doubly controlled version of the phiADD circuit\"\"\"\n",
        "\n",
        "\n",
        "def ccphiADD(circuit, q, ctl1, ctl2, a, n, inv):\n",
        "    angle = getAngles(a, n)\n",
        "    for i in range(0, n):\n",
        "        if inv == 0:\n",
        "            ccphase(circuit, angle[i], ctl1, ctl2, q[i])\n",
        "        else:\n",
        "            ccphase(circuit, -angle[i], ctl1, ctl2, q[i])\n",
        "\n",
        "\n",
        "\"\"\"Circuit that implements doubly controlled modular addition by a\"\"\"\n",
        "\n",
        "\n",
        "def ccphiADDmodN(circuit, q, ctl1, ctl2, aux, a, N, n):\n",
        "    ccphiADD(circuit, q, ctl1, ctl2, a, n, 0)\n",
        "    phiADD(circuit, q, N, n, 1)\n",
        "    create_inverse_QFT(circuit, q, n, 0)\n",
        "    circuit.cx(q[n - 1], aux)\n",
        "    create_QFT(circuit, q, n, 0)\n",
        "    cphiADD(circuit, q, aux, N, n, 0)\n",
        "\n",
        "    ccphiADD(circuit, q, ctl1, ctl2, a, n, 1)\n",
        "    create_inverse_QFT(circuit, q, n, 0)\n",
        "    circuit.x(q[n - 1])\n",
        "    circuit.cx(q[n - 1], aux)\n",
        "    circuit.x(q[n - 1])\n",
        "    create_QFT(circuit, q, n, 0)\n",
        "    ccphiADD(circuit, q, ctl1, ctl2, a, n, 0)\n",
        "\n",
        "\n",
        "\"\"\"Circuit that implements the inverse of doubly controlled modular addition by a\"\"\"\n",
        "\n",
        "\n",
        "def ccphiADDmodN_inv(circuit, q, ctl1, ctl2, aux, a, N, n):\n",
        "    ccphiADD(circuit, q, ctl1, ctl2, a, n, 1)\n",
        "    create_inverse_QFT(circuit, q, n, 0)\n",
        "    circuit.x(q[n - 1])\n",
        "    circuit.cx(q[n - 1], aux)\n",
        "    circuit.x(q[n - 1])\n",
        "    create_QFT(circuit, q, n, 0)\n",
        "    ccphiADD(circuit, q, ctl1, ctl2, a, n, 0)\n",
        "    cphiADD(circuit, q, aux, N, n, 1)\n",
        "    create_inverse_QFT(circuit, q, n, 0)\n",
        "    circuit.cx(q[n - 1], aux)\n",
        "    create_QFT(circuit, q, n, 0)\n",
        "    phiADD(circuit, q, N, n, 0)\n",
        "    ccphiADD(circuit, q, ctl1, ctl2, a, n, 1)"
      ]
    },
    {
      "cell_type": "code",
      "execution_count": 74,
      "metadata": {
        "id": "GEa9SRkX7lCO"
      },
      "outputs": [],
      "source": [
        "def cMULTmodN(circuit : QuantumCircuit, ctl, q, aux, a, semiprime, circuit_size):\n",
        "    create_QFT(circuit,aux,circuit_size+1,0)\n",
        "    \"\"\"Circuit that implements single controlled modular multiplication by a\"\"\"\n",
        "    for i in range(0, circuit_size):\n",
        "        ccphiADDmodN(circuit, aux, q[i], ctl, aux[circuit_size+1], (2**i)*a % semiprime, semiprime, circuit_size+1)\n",
        "    create_inverse_QFT(circuit, aux, circuit_size+1, 0)\n",
        "\n",
        "    for i in range(0, circuit_size):\n",
        "        circuit.cswap(ctl,q[i],aux[i])\n",
        "\n",
        "    a_inv = modinv(a, semiprime)\n",
        "    create_QFT(circuit, aux, circuit_size+1, 0)\n",
        "    i = circuit_size - 1\n",
        "    while i >= 0:\n",
        "        ccphiADDmodN_inv(circuit, aux, q[i], ctl, aux[circuit_size+1], np.power(2,i) * a_inv % semiprime, semiprime, circuit_size+1)\n",
        "        i -= 1\n",
        "    create_inverse_QFT(circuit, aux, circuit_size+1, 0)\n"
      ]
    },
    {
      "cell_type": "code",
      "execution_count": 75,
      "metadata": {
        "id": "9ZtR0ohE7lCO"
      },
      "outputs": [],
      "source": [
        "semiprime = 143\n",
        "base = 2 # TODO: implement coprime checker\n",
        "circuit_size = np.ceil(np.log2(semiprime)).astype(int)"
      ]
    },
    {
      "cell_type": "code",
      "execution_count": 76,
      "metadata": {
        "id": "L22m0tvT7lCO"
      },
      "outputs": [],
      "source": [
        "# auxilliary quantum register used in addition and multiplication\n",
        "aux = QuantumRegister(circuit_size+2)\n",
        "# quantum register where the sequential QFT is performed\n",
        "up_reg = QuantumRegister(2*circuit_size)\n",
        "# quantum register where the multiplications are made\n",
        "down_reg = QuantumRegister(circuit_size)\n",
        "# classical register where the measured values of the QFT are stored\n",
        "up_classic = ClassicalRegister(2*circuit_size)"
      ]
    },
    {
      "cell_type": "code",
      "execution_count": 77,
      "metadata": {
        "colab": {
          "base_uri": "https://localhost:8080/"
        },
        "id": "0rYHdbw27lCP",
        "outputId": "71ba4cf0-ecae-4af1-c004-52582d824ed8"
      },
      "outputs": [
        {
          "output_type": "execute_result",
          "data": {
            "text/plain": [
              "<qiskit.circuit.instructionset.InstructionSet at 0x795e70773fd0>"
            ]
          },
          "metadata": {},
          "execution_count": 77
        }
      ],
      "source": [
        "circuit = QuantumCircuit(down_reg, up_reg, aux, up_classic)\n",
        "# Initialize down register to 1 and create maximal superposition in top register\n",
        "circuit.h(up_reg)\n",
        "circuit.x(down_reg[0])"
      ]
    },
    {
      "cell_type": "code",
      "execution_count": 78,
      "metadata": {
        "id": "IlWhK90f7lCP"
      },
      "outputs": [],
      "source": [
        "# Apply the multiplication gates as showed in the report in order to create the exponentiation \"\"\"\n",
        "for i in range(0, 2*circuit_size):\n",
        "    cMULTmodN(circuit, up_reg[i], down_reg, aux, int(pow(base, pow(2, i))), semiprime, circuit_size)"
      ]
    },
    {
      "cell_type": "code",
      "execution_count": 79,
      "metadata": {
        "id": "RMtEZgVF7lCR"
      },
      "outputs": [],
      "source": [
        "# Apply inverse QFT\n",
        "create_inverse_QFT(circuit, up_reg, 2 * circuit_size, 1)"
      ]
    },
    {
      "cell_type": "code",
      "execution_count": 80,
      "metadata": {
        "colab": {
          "base_uri": "https://localhost:8080/"
        },
        "id": "iPN7cOZU7lCR",
        "outputId": "864305d7-518c-43ab-b399-67b92b7d8f7f"
      },
      "outputs": [
        {
          "output_type": "execute_result",
          "data": {
            "text/plain": [
              "<qiskit.circuit.instructionset.InstructionSet at 0x795e707724d0>"
            ]
          },
          "metadata": {},
          "execution_count": 80
        }
      ],
      "source": [
        "# Measure the top qubits, to get period\n",
        "circuit.measure(up_reg,up_classic)"
      ]
    },
    {
      "cell_type": "code",
      "execution_count": 81,
      "metadata": {
        "colab": {
          "base_uri": "https://localhost:8080/"
        },
        "id": "leXKuiAE7lCR",
        "outputId": "d6c0b776-c0ad-4983-b173-c4f8ad5b1179"
      },
      "outputs": [
        {
          "output_type": "execute_result",
          "data": {
            "text/plain": [
              "34"
            ]
          },
          "metadata": {},
          "execution_count": 81
        }
      ],
      "source": [
        "circuit.num_qubits"
      ]
    },
    {
      "cell_type": "code",
      "execution_count": 82,
      "metadata": {
        "id": "Cjtv8RN47lCR"
      },
      "outputs": [],
      "source": [
        "# transpile circuit to Quantum Rings backend\n",
        "qr_backend = QrBackendV2(provider, num_qubits = circuit.num_qubits)\n",
        "qc_transpiled = transpile(circuit, qr_backend, initial_layout=[i for i in range(0, circuit.num_qubits)])"
      ]
    },
    {
      "cell_type": "code",
      "execution_count": null,
      "metadata": {
        "id": "1toMA5UV7lCR"
      },
      "outputs": [],
      "source": [
        "# Execute the quantum code\n",
        "shots = 3\n",
        "job = qr_backend.run(qc_transpiled, shots=shots)"
      ]
    },
    {
      "cell_type": "code",
      "execution_count": null,
      "metadata": {
        "id": "bBJty4vO7lCR"
      },
      "outputs": [],
      "source": [
        "~~result = job.result()\n",
        "counts = result.get_counts()\n",
        "plot_histogram(counts)"
      ]
    },
    {
      "cell_type": "code",
      "source": [
        "def get_factors(x_value,t_upper,N,a):\n",
        "\n",
        "    if x_value<=0:\n",
        "        # print('x_value is <= 0, there are no continued fractions\\n')\n",
        "        return False\n",
        "\n",
        "    # print('Running continued fractions for this case\\n')\n",
        "\n",
        "    \"\"\" Calculate T and x/T \"\"\"\n",
        "    T = pow(2,t_upper)\n",
        "\n",
        "    x_over_T = x_value/T\n",
        "\n",
        "    \"\"\" Cycle in which each iteration corresponds to putting one more term in the\n",
        "    calculation of the Continued Fraction (CF) of x/T \"\"\"\n",
        "\n",
        "    \"\"\" Initialize the first values according to CF rule \"\"\"\n",
        "    i=0\n",
        "    b = array.array('i')\n",
        "    t = array.array('f')\n",
        "\n",
        "    b.append(math.floor(x_over_T))\n",
        "    t.append(x_over_T - b[i])\n",
        "\n",
        "    while i>=0:\n",
        "\n",
        "        \"\"\"From the 2nd iteration onwards, calculate the new terms of the CF based\n",
        "        on the previous terms as the rule suggests\"\"\"\n",
        "\n",
        "        if i>0:\n",
        "            b.append( math.floor( 1 / (t[i-1]) ) )\n",
        "            t.append( ( 1 / (t[i-1]) ) - b[i] )\n",
        "\n",
        "        \"\"\" Calculate the CF using the known terms \"\"\"\n",
        "\n",
        "        aux = 0\n",
        "        j=i\n",
        "        while j>0:\n",
        "            aux = 1 / ( b[j] + aux )\n",
        "            j = j-1\n",
        "\n",
        "        aux = aux + b[0]\n",
        "\n",
        "        \"\"\"Get the denominator from the value obtained\"\"\"\n",
        "        frac = fractions.Fraction(aux).limit_denominator()\n",
        "        den=frac.denominator\n",
        "\n",
        "        # print('Approximation number {0} of continued fractions:'.format(i+1))\n",
        "        # print(\"Numerator:{0} \\t\\t Denominator: {1}\\n\".format(frac.numerator,frac.denominator))\n",
        "\n",
        "        \"\"\" Increment i for next iteration \"\"\"\n",
        "        i=i+1\n",
        "\n",
        "        if (den%2) == 1:\n",
        "            if i>=15:\n",
        "                # print('Returning because have already done too much tries')\n",
        "                return False\n",
        "            # print('Odd denominator, will try next iteration of continued fractions\\n')\n",
        "            continue\n",
        "\n",
        "        \"\"\" If denominator even, try to get factors of N \"\"\"\n",
        "\n",
        "        \"\"\" Get the exponential a^(r/2) \"\"\"\n",
        "\n",
        "        exponential = 0\n",
        "\n",
        "        if den<1000:\n",
        "            exponential=pow(a , (den/2))\n",
        "\n",
        "        \"\"\" Check if the value is too big or not \"\"\"\n",
        "        if np.isinf(exponential)==1 or exponential>1000000000:\n",
        "            print('Denominator of continued fraction is too big!\\n')\n",
        "            aux_out = input('Input number 1 if you want to continue searching, other if you do not: ')\n",
        "            if aux_out != '1':\n",
        "                return False\n",
        "            else:\n",
        "                continue\n",
        "\n",
        "        \"\"\"If the value is not to big (infinity), then get the right values and\n",
        "        do the proper gcd()\"\"\"\n",
        "\n",
        "        putting_plus = int(exponential + 1)\n",
        "\n",
        "        putting_minus = int(exponential - 1)\n",
        "\n",
        "        one_factor = np.gcd(putting_plus,N)\n",
        "        other_factor = np.gcd(putting_minus,N)\n",
        "\n",
        "        \"\"\" Check if the factors found are trivial factors or are the desired\n",
        "        factors \"\"\"\n",
        "\n",
        "        if one_factor==1 or one_factor==N or other_factor==1 or other_factor==N:\n",
        "            # print('Found just trivial factors, not good enough\\n')\n",
        "            \"\"\" Check if the number has already been found, use i-1 because i was already incremented \"\"\"\n",
        "            if t[i-1]==0:\n",
        "                # print('The continued fractions found exactly x_final/(2^(2n)) , leaving funtion\\n')\n",
        "                return False\n",
        "            if i<15:\n",
        "                aux_out = input('Input number 1 if you want to continue searching, other if you do not: ')\n",
        "                if aux_out != '1':\n",
        "                    return False\n",
        "            else:\n",
        "                \"\"\" Return if already too much tries and numbers are huge \"\"\"\n",
        "                # print('Returning because have already done too many tries\\n')\n",
        "                return False\n",
        "        else:\n",
        "            print('The factors of {0} are {1} and {2}\\n'.format(N,one_factor,other_factor))\n",
        "            # print('Found the desired factors!\\n')\n",
        "            return True"
      ],
      "metadata": {
        "id": "Tu0VBI0y9mhb"
      },
      "execution_count": null,
      "outputs": []
    },
    {
      "cell_type": "code",
      "source": [
        "prob_success=0\n",
        "\n",
        "i=0\n",
        "while i < len(counts):\n",
        "\n",
        "    \"\"\" Get the x_value from the final state qubits \"\"\"\n",
        "    output_desired = list(counts.keys())[i]\n",
        "    x_value = int(output_desired, 2)\n",
        "    prob_this_result = 100 * ( int( list(counts.values())[i] ) ) / (shots)\n",
        "\n",
        "    # print(\"------> Analysing result {0}. This result happened in {1:.4f} % of all cases\\n\".format(output_desired,prob_this_result))\n",
        "\n",
        "    \"\"\" Print the final x_value to user \"\"\"\n",
        "    # print('In decimal, x_final value for this result is: {0}\\n'.format(x_value))\n",
        "\n",
        "    \"\"\" Get the factors using the x value obtained \"\"\"\n",
        "    success = get_factors(int(x_value),int(2 * circuit_size),int(semiprime),int(base))\n",
        "\n",
        "    if success==True:\n",
        "        prob_success = prob_success + prob_this_result\n",
        "\n",
        "    i=i+1\n",
        "\n",
        "# print(\"\\nUsing a={0}, found the factors of N={1} in {2:.4f} % of the cases\\n\".format(base,semiprime,prob_success))"
      ],
      "metadata": {
        "id": "7o1xF6PT8bd2"
      },
      "execution_count": null,
      "outputs": []
    },
    {
      "cell_type": "code",
      "source": [],
      "metadata": {
        "id": "bFrB7T_K-6Tq"
      },
      "execution_count": null,
      "outputs": []
    }
  ],
  "metadata": {
    "kernelspec": {
      "display_name": ".venv",
      "language": "python",
      "name": "python3"
    },
    "language_info": {
      "codemirror_mode": {
        "name": "ipython",
        "version": 3
      },
      "file_extension": ".py",
      "mimetype": "text/x-python",
      "name": "python",
      "nbconvert_exporter": "python",
      "pygments_lexer": "ipython3",
      "version": "3.13.2"
    },
    "colab": {
      "provenance": []
    }
  },
  "nbformat": 4,
  "nbformat_minor": 0
}