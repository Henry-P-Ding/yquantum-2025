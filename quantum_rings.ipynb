{
  "nbformat": 4,
  "nbformat_minor": 0,
  "metadata": {
    "colab": {
      "provenance": [],
      "authorship_tag": "ABX9TyNqk1VWpguhmz+yMKdh6Td9",
      "include_colab_link": true
    },
    "kernelspec": {
      "name": "python3",
      "display_name": "Python 3"
    },
    "language_info": {
      "name": "python"
    }
  },
  "cells": [
    {
      "cell_type": "markdown",
      "metadata": {
        "id": "view-in-github",
        "colab_type": "text"
      },
      "source": [
        "<a href=\"https://colab.research.google.com/github/Henry-P-Ding/yquantum-2025/blob/main/quantum_rings.ipynb\" target=\"_parent\"><img src=\"https://colab.research.google.com/assets/colab-badge.svg\" alt=\"Open In Colab\"/></a>"
      ]
    },
    {
      "cell_type": "code",
      "execution_count": null,
      "metadata": {
        "colab": {
          "base_uri": "https://localhost:8080/"
        },
        "id": "oOOqg0UO4c6Q",
        "outputId": "7df46d1a-a88d-41c9-ba2f-f8c316e2bdf8"
      },
      "outputs": [
        {
          "output_type": "stream",
          "name": "stdout",
          "text": [
            "Requirement already satisfied: QuantumRingsLib in /usr/local/lib/python3.11/dist-packages (0.9.11)\n"
          ]
        },
        {
          "output_type": "execute_result",
          "data": {
            "text/plain": [
              "{'name': 'ap9029@princeton.edu',\n",
              " 'token': 'rings-128.XM1R41A36RLY8IHnWC1ejzAw8GIOyEab',\n",
              " 'max_qubits': '128'}"
            ]
          },
          "metadata": {},
          "execution_count": 4
        }
      ],
      "source": [
        "!pip install QuantumRingsLib\n",
        "\n",
        "import QuantumRingsLib\n",
        "from QuantumRingsLib import QuantumRegister, AncillaRegister, ClassicalRegister, QuantumCircuit\n",
        "from QuantumRingsLib import QuantumRingsProvider\n",
        "from QuantumRingsLib import job_monitor\n",
        "from QuantumRingsLib import JobStatus\n",
        "from matplotlib import pyplot as plt\n",
        "import numpy as np\n",
        "shots = 1024\n",
        "\n",
        "provider = QuantumRingsProvider(\n",
        "    token='rings-128.XM1R41A36RLY8IHnWC1ejzAw8GIOyEab',\n",
        "    name='ap9029@princeton.edu'\n",
        ")\n",
        "backend = provider.get_backend(\"scarlet_quantum_rings\")\n",
        "\n",
        "provider.active_account()"
      ]
    },
    {
      "cell_type": "code",
      "source": [
        "def iqft_cct(qc, b, n):\n",
        "    \"\"\"\n",
        "    The inverse QFT circuit\n",
        "\n",
        "    Args:\n",
        "\n",
        "        qc (QuantumCircuit):\n",
        "                The quantum circuit\n",
        "\n",
        "        b (QuantumRegister):\n",
        "                The target register\n",
        "\n",
        "        n (int):\n",
        "                The number of qubits in the registers to use\n",
        "\n",
        "    Returns:\n",
        "        None\n",
        "\n",
        "    \"\"\"\n",
        "\n",
        "    for i in range (n):\n",
        "        for j in range (1, i+1):\n",
        "            # for inverse transform, we have to use negative angles\n",
        "            qc.cu1(  -math.pi / 2** ( i -j + 1 ), b[j - 1], b[i])\n",
        "        # the H transform should be done after the rotations\n",
        "        qc.h(b[i])\n",
        "    qc.barrier()\n",
        "    return\n",
        "\n",
        "def plot_histogram (counts, title=\"\"):\n",
        "    \"\"\"\n",
        "    Plots the histogram of the counts\n",
        "\n",
        "    Args:\n",
        "\n",
        "        counts (dict):\n",
        "            The dictionary containing the counts of states\n",
        "\n",
        "        titles (str):\n",
        "            A title for the graph.\n",
        "\n",
        "    Returns:\n",
        "        None\n",
        "\n",
        "    \"\"\"\n",
        "    fig, ax = plt.subplots(figsize =(10, 7))\n",
        "    plt.xlabel(\"States\")\n",
        "    plt.ylabel(\"Counts\")\n",
        "    mylist = [key for key, val in counts.items() for _ in range(val)]\n",
        "\n",
        "    unique, inverse = np.unique(mylist, return_inverse=True)\n",
        "    bin_counts = np.bincount(inverse)\n",
        "\n",
        "    plt.bar(unique, bin_counts)\n",
        "\n",
        "    maxFreq = max(counts.values())\n",
        "    plt.ylim(ymax=np.ceil(maxFreq / 10) * 10 if maxFreq % 10 else maxFreq + 10)\n",
        "    # Show plot\n",
        "    plt.title(title)\n",
        "    plt.show()\n",
        "    return"
      ],
      "metadata": {
        "id": "h2FAImtXVnIs"
      },
      "execution_count": null,
      "outputs": []
    },
    {
      "cell_type": "code",
      "source": [
        "# Shor’s algorithm to factorize 15 using 7^x mod 15.\n",
        "numberofqubits = 7\n",
        "shots = 1024\n",
        "\n",
        "InitializeDebugger()\n",
        "\n",
        "q = QuantumRegister(numberofqubits , 'q')\n",
        "c = ClassicalRegister(4 , 'c')\n",
        "qc = QuantumCircuit(q, c)\n",
        "\n",
        "# Initialize source and target registers\n",
        "qc.h(0)\n",
        "qc.h(1)\n",
        "qc.h(2)\n",
        "qc.x(6)\n",
        "qc.barrier()\n",
        "\n",
        "# Modular exponentiation 7^x mod 15\n",
        "qc.cx(q[2],q[4] )\n",
        "qc.cx(q[2],q[5] )\n",
        "qc.cx(q[6],q[4] )\n",
        "qc.ccx(q[1],q[5],q[3] )\n",
        "qc.cx(q[3],q[5] )\n",
        "qc.ccx(q[1],q[4],q[6] )\n",
        "qc.cx(q[6],q[4] ) #\n",
        "qc.barrier()\n",
        "\n",
        "# IQFT. Refer to implementation from earlier examples\n",
        "iqft_cct (qc, q, 3)\n",
        "\n",
        "# Measure\n",
        "qc.measure(q[0], c[0])\n",
        "qc.measure(q[1], c[1])\n",
        "qc.measure(q[2], c[2])\n",
        "\n",
        "# Execute the circuit\n",
        "job = backend.run(qc, shots)\n",
        "job_monitor(job)\n",
        "result = job.result()\n",
        "counts = result.get_counts()\n",
        "\n",
        "#clean up\n",
        "del q, c, qc\n",
        "del result\n",
        "del job\n",
        "\n",
        "#visualize"
      ],
      "metadata": {
        "id": "gHHz9XyVVtUl"
      },
      "execution_count": null,
      "outputs": []
    }
  ]
}