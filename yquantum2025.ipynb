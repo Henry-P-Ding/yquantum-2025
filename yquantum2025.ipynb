{
  "nbformat": 4,
  "nbformat_minor": 0,
  "metadata": {
    "colab": {
      "provenance": [],
      "authorship_tag": "ABX9TyOZ0z+7855M6Vw7PJaHwfm+",
      "include_colab_link": true
    },
    "kernelspec": {
      "name": "python3",
      "display_name": "Python 3"
    },
    "language_info": {
      "name": "python"
    }
  },
  "cells": [
    {
      "cell_type": "markdown",
      "metadata": {
        "id": "view-in-github",
        "colab_type": "text"
      },
      "source": [
        "<a href=\"https://colab.research.google.com/github/Henry-P-Ding/yquantum-2025/blob/main/yquantum2025.ipynb\" target=\"_parent\"><img src=\"https://colab.research.google.com/assets/colab-badge.svg\" alt=\"Open In Colab\"/></a>"
      ]
    },
    {
      "cell_type": "code",
      "execution_count": null,
      "metadata": {
        "id": "4i4jkqiqBEzK"
      },
      "outputs": [],
      "source": [
        "!touch .env"
      ]
    },
    {
      "cell_type": "code",
      "source": [
        "!pip install python-dotenv"
      ],
      "metadata": {
        "id": "zZpltXnWe-HH",
        "outputId": "8280cbac-c552-43b8-d53b-8438aa12e903",
        "colab": {
          "base_uri": "https://localhost:8080/"
        }
      },
      "execution_count": 17,
      "outputs": [
        {
          "output_type": "stream",
          "name": "stdout",
          "text": [
            "Requirement already satisfied: python-dotenv in /usr/local/lib/python3.11/dist-packages (1.1.0)\n"
          ]
        }
      ]
    },
    {
      "cell_type": "code",
      "source": [
        "import os\n",
        "from dotenv import load_dotenv\n",
        "load_dotenv()\n",
        "\n",
        "API_KEY = os.getenv('PROJECT_API_KEY')"
      ],
      "metadata": {
        "id": "ynF8ZJMDe_8R"
      },
      "execution_count": 18,
      "outputs": []
    },
    {
      "cell_type": "code",
      "source": [
        "!pip install quantumrings-toolkit-qiskit"
      ],
      "metadata": {
        "id": "rKiF48RCfBT-",
        "outputId": "735a2c99-2e73-4503-c2b5-3b1a2dd830b3",
        "colab": {
          "base_uri": "https://localhost:8080/"
        }
      },
      "execution_count": 19,
      "outputs": [
        {
          "output_type": "stream",
          "name": "stdout",
          "text": [
            "Requirement already satisfied: quantumrings-toolkit-qiskit in /usr/local/lib/python3.11/dist-packages (0.1.10)\n",
            "Requirement already satisfied: numpy in /usr/local/lib/python3.11/dist-packages (from quantumrings-toolkit-qiskit) (2.0.2)\n",
            "Requirement already satisfied: qiskit in /usr/local/lib/python3.11/dist-packages (from quantumrings-toolkit-qiskit) (2.0.0)\n",
            "Requirement already satisfied: QuantumRingsLib in /usr/local/lib/python3.11/dist-packages (from quantumrings-toolkit-qiskit) (0.9.11)\n",
            "Requirement already satisfied: rustworkx>=0.15.0 in /usr/local/lib/python3.11/dist-packages (from qiskit->quantumrings-toolkit-qiskit) (0.16.0)\n",
            "Requirement already satisfied: scipy>=1.5 in /usr/local/lib/python3.11/dist-packages (from qiskit->quantumrings-toolkit-qiskit) (1.14.1)\n",
            "Requirement already satisfied: sympy>=1.3 in /usr/local/lib/python3.11/dist-packages (from qiskit->quantumrings-toolkit-qiskit) (1.13.1)\n",
            "Requirement already satisfied: dill>=0.3 in /usr/local/lib/python3.11/dist-packages (from qiskit->quantumrings-toolkit-qiskit) (0.3.9)\n",
            "Requirement already satisfied: python-dateutil>=2.8.0 in /usr/local/lib/python3.11/dist-packages (from qiskit->quantumrings-toolkit-qiskit) (2.8.2)\n",
            "Requirement already satisfied: stevedore>=3.0.0 in /usr/local/lib/python3.11/dist-packages (from qiskit->quantumrings-toolkit-qiskit) (5.4.1)\n",
            "Requirement already satisfied: typing-extensions in /usr/local/lib/python3.11/dist-packages (from qiskit->quantumrings-toolkit-qiskit) (4.13.1)\n",
            "Requirement already satisfied: symengine<0.14,>=0.11 in /usr/local/lib/python3.11/dist-packages (from qiskit->quantumrings-toolkit-qiskit) (0.13.0)\n",
            "Requirement already satisfied: six>=1.5 in /usr/local/lib/python3.11/dist-packages (from python-dateutil>=2.8.0->qiskit->quantumrings-toolkit-qiskit) (1.17.0)\n",
            "Requirement already satisfied: pbr>=2.0.0 in /usr/local/lib/python3.11/dist-packages (from stevedore>=3.0.0->qiskit->quantumrings-toolkit-qiskit) (6.1.1)\n",
            "Requirement already satisfied: mpmath<1.4,>=1.1.0 in /usr/local/lib/python3.11/dist-packages (from sympy>=1.3->qiskit->quantumrings-toolkit-qiskit) (1.3.0)\n",
            "Requirement already satisfied: setuptools in /usr/local/lib/python3.11/dist-packages (from pbr>=2.0.0->stevedore>=3.0.0->qiskit->quantumrings-toolkit-qiskit) (75.2.0)\n"
          ]
        }
      ]
    },
    {
      "cell_type": "code",
      "source": [
        "!pip install QuantumRingsLib"
      ],
      "metadata": {
        "id": "iTVQhQ1qfC35",
        "outputId": "7df63c12-2020-42ac-90b3-188d599b8d16",
        "colab": {
          "base_uri": "https://localhost:8080/"
        }
      },
      "execution_count": 20,
      "outputs": [
        {
          "output_type": "stream",
          "name": "stdout",
          "text": [
            "Requirement already satisfied: QuantumRingsLib in /usr/local/lib/python3.11/dist-packages (0.9.11)\n"
          ]
        }
      ]
    },
    {
      "cell_type": "code",
      "source": [
        "import QuantumRingsLib\n",
        "from QuantumRingsLib import QuantumRegister, AncillaRegister, ClassicalRegister, QuantumCircuit\n",
        "from QuantumRingsLib import QuantumRingsProvider\n",
        "from QuantumRingsLib import job_monitor\n",
        "from QuantumRingsLib import JobStatus\n",
        "from matplotlib import pyplot as plt\n",
        "import numpy as np\n",
        "\n",
        "provider = QuantumRingsProvider(\n",
        "    token='(something),\n",
        "    name='st0490@princeton.edu'\n",
        ")\n",
        "backend = provider.get_backend(\"scarlet_quantum_rings\")\n",
        "shots = 1024\n",
        "\n",
        "provider.active_account()"
      ],
      "metadata": {
        "id": "Q2unTYXafERm"
      },
      "execution_count": null,
      "outputs": []
    },
    {
      "cell_type": "code",
      "source": [
        "def iqft_cct(qc, b, n):\n",
        "    \"\"\"\n",
        "    The inverse QFT circuit\n",
        "\n",
        "    Args:\n",
        "\n",
        "        qc (QuantumCircuit):\n",
        "                The quantum circuit\n",
        "\n",
        "        b (QuantumRegister):\n",
        "                The target register\n",
        "\n",
        "        n (int):\n",
        "                The number of qubits in the registers to use\n",
        "\n",
        "    Returns:\n",
        "        None\n",
        "\n",
        "    \"\"\"\n",
        "\n",
        "    for i in range (n):\n",
        "        for j in range (1, i+1):\n",
        "            # for inverse transform, we have to use negative angles\n",
        "            qc.cu1(  -np.pi / 2** ( i -j + 1 ), b[j - 1], b[i])\n",
        "        # the H transform should be done after the rotations\n",
        "        qc.h(b[i])\n",
        "    qc.barrier()\n",
        "    return\n",
        "\n",
        "def plot_histogram (counts, title=\"\"):\n",
        "    \"\"\"\n",
        "    Plots the histogram of the counts\n",
        "\n",
        "    Args:\n",
        "\n",
        "        counts (dict):\n",
        "            The dictionary containing the counts of states\n",
        "\n",
        "        titles (str):\n",
        "            A title for the graph.\n",
        "\n",
        "    Returns:\n",
        "        None\n",
        "\n",
        "    \"\"\"\n",
        "    fig, ax = plt.subplots(figsize =(10, 7))\n",
        "    plt.xlabel(\"States\")\n",
        "    plt.ylabel(\"Counts\")\n",
        "    mylist = [key for key, val in counts.items() for _ in range(val)]\n",
        "\n",
        "    unique, inverse = np.unique(mylist, return_inverse=True)\n",
        "    bin_counts = np.bincount(inverse)\n",
        "\n",
        "    plt.bar(unique, bin_counts)\n",
        "\n",
        "    maxFreq = max(counts.values())\n",
        "    plt.ylim(ymax=np.ceil(maxFreq / 10) * 10 if maxFreq % 10 else maxFreq + 10)\n",
        "    # Show plot\n",
        "    plt.title(title)\n",
        "    plt.show()\n",
        "    return"
      ],
      "metadata": {
        "id": "lKHRi5GrfFix"
      },
      "execution_count": null,
      "outputs": []
    },
    {
      "cell_type": "code",
      "source": [
        "# Shor’s algorithm to factorize 15 using 7^x mod 15.\n",
        "numberofqubits = 7\n",
        "shots = 1024\n",
        "\n",
        "q = QuantumRegister(numberofqubits , 'q')\n",
        "c = ClassicalRegister(4 , 'c')\n",
        "qc = QuantumCircuit(q, c)\n",
        "\n",
        "# Initialize source and target registers\n",
        "qc.h(0)\n",
        "qc.h(1)\n",
        "qc.h(2)\n",
        "qc.x(6)\n",
        "qc.barrier()\n",
        "\n",
        "# Modular exponentiation 7^x mod 15\n",
        "qc.cx(q[2],q[4] )\n",
        "qc.cx(q[2],q[5] )\n",
        "qc.cx(q[6],q[4] )\n",
        "qc.ccx(q[1],q[5],q[3] )\n",
        "qc.cx(q[3],q[5] )\n",
        "qc.ccx(q[1],q[4],q[6] )\n",
        "qc.cx(q[6],q[4] ) #\n",
        "qc.barrier()\n",
        "\n",
        "# IQFT. Refer to implementation from earlier examples\n",
        "iqft_cct (qc, q, 3)\n",
        "\n",
        "# Measure\n",
        "qc.measure(q[0], c[0])\n",
        "qc.measure(q[1], c[1])\n",
        "qc.measure(q[2], c[2])\n",
        "\n",
        "# Execute the circuit\n",
        "job = backend.run(qc, shots=shots)\n",
        "job_monitor(job)\n",
        "result = job.result()\n",
        "counts = result.get_counts()\n",
        "\n",
        "#clean up\n",
        "del q, c, qc\n",
        "del result\n",
        "del job\n",
        "\n",
        "#visualize\n",
        "plot_histogram(counts)"
      ],
      "metadata": {
        "id": "Rgtv8rstfG1r"
      },
      "execution_count": null,
      "outputs": []
    }
  ]
}