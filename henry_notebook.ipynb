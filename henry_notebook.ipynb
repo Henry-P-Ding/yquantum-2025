{
  "cells": [
    {
      "cell_type": "markdown",
      "metadata": {
        "id": "view-in-github",
        "colab_type": "text"
      },
      "source": [
        "<a href=\"https://colab.research.google.com/github/Henry-P-Ding/yquantum-2025/blob/main/henry_notebook.ipynb\" target=\"_parent\"><img src=\"https://colab.research.google.com/assets/colab-badge.svg\" alt=\"Open In Colab\"/></a>"
      ]
    },
    {
      "cell_type": "code",
      "source": [
        "!pip install QuantumRingsLib\n",
        "!pip install qiskit==1.3.1\n",
        "!pip install quantumrings-toolkit-qiskit\n",
        "!pip install pylatexenc"
      ],
      "metadata": {
        "id": "_OsmNO8bZdRa"
      },
      "execution_count": null,
      "outputs": []
    },
    {
      "cell_type": "code",
      "execution_count": 32,
      "metadata": {
        "id": "buv0ayeXZbrT"
      },
      "outputs": [],
      "source": [
        "# Import the required modules\n",
        "from qiskit.circuit import QuantumCircuit\n",
        "from qiskit.circuit.library import MultiplierGate, RGQFTMultiplier, ModularAdderGate, HalfAdderGate\n",
        "from qiskit import QuantumCircuit, transpile, QuantumRegister, ClassicalRegister, AncillaRegister\n",
        "from qiskit.visualization import plot_histogram\n",
        "from matplotlib import pyplot as plt\n",
        "import numpy as np\n",
        "\n",
        "import QuantumRingsLib\n",
        "from QuantumRingsLib import QuantumRingsProvider\n",
        "from quantumrings.toolkit.qiskit import QrBackendV2\n",
        "from quantumrings.toolkit.qiskit import QrJobV1"
      ]
    },
    {
      "cell_type": "code",
      "execution_count": 4,
      "metadata": {
        "id": "7q6VY0oXZbrY",
        "outputId": "33e09dcf-b7a5-4cb9-f573-b9cc8375fbbc",
        "colab": {
          "base_uri": "https://localhost:8080/"
        }
      },
      "outputs": [
        {
          "output_type": "stream",
          "name": "stdout",
          "text": [
            "Account Name:  khang.tran@princeton.edu \n",
            "Max Qubits:  128\n",
            "{'khang.tran@princeton.edu': 'rings-128.tFp5jv833mIYtWvhAcPilxZNHO0MGRw1'}\n"
          ]
        }
      ],
      "source": [
        "#Acquire the Quantum Rings Provider\n",
        "provider = QuantumRingsProvider(\n",
        "    token='rings-128.tFp5jv833mIYtWvhAcPilxZNHO0MGRw1',\n",
        "    name='khang.tran@princeton.edu'\n",
        ")\n",
        "print(\"Account Name: \", provider.active_account()[\"name\"], \"\\nMax Qubits: \", provider.active_account()[\"max_qubits\"])\n",
        "\n",
        "\n",
        "#Save the account locally.\n",
        "provider.save_account(\n",
        "    token='rings-128.tFp5jv833mIYtWvhAcPilxZNHO0MGRw1',\n",
        "    name='khang.tran@princeton.edu')\n",
        "print(provider.saved_accounts(False, \"default\"))"
      ]
    },
    {
      "cell_type": "code",
      "execution_count": 5,
      "metadata": {
        "id": "kAQ1LNxcZbrZ"
      },
      "outputs": [],
      "source": [
        "# controlled multipliers\n",
        "def exponent(base, power, num_state_qubits):\n",
        "    exp_gate = QuantumCircuit(2 * num_state_qubits)\n",
        "    for i in range(base ** power):\n",
        "        exp_gate.append(ModularAdderGate(num_state_qubits=num_state_qubits), range(2 * num_state_qubits))\n",
        "    exp_gate.draw()\n",
        "    return exp_gate.to_gate().control(1)"
      ]
    },
    {
      "cell_type": "code",
      "source": [
        "n = 4\n",
        "n_N = 4\n",
        "\n",
        "a = QuantumRegister(n, 'A')\n",
        "b = QuantumRegister(n, 'B')\n",
        "c = QuantumRegister(1, 'C')\n",
        "ansi = AncillaRegister(n_N, 'ansi')\n",
        "N = QuantumRegister(n_N, 'N')\n",
        "output = ClassicalRegister(n)\n",
        "\n",
        "rev_adder = QuantumCircuit(2 * n + 1)\n",
        "rev_adder.append(HalfAdderGate(n), range(2 * n + 1))\n",
        "rev_adder.inverse()\n",
        "rev_adder = rev_adder.to_gate()\n",
        "\n",
        "qc = QuantumCircuit(a, b, c, N, ansi, output)\n",
        "\n",
        "qc.x([a[0], a[1]])\n",
        "qc.x(b[2])\n",
        "qc.x([N[0],N[2]])\n",
        "\n",
        "# qc.append(HalfAdderGate(n), a[:] + b[:] + c[:])\n",
        "\n",
        "qc.append(rev_adder, N[:] + b[:] + c[:])\n",
        "\n",
        "# qc.x(c)\n",
        "\n",
        "# qc.cswap(c, ansi[0], N[0])\n",
        "# qc.cswap(c, ansi[1], N[1])\n",
        "# qc.cswap(c, ansi[2], N[2])\n",
        "# qc.cswap(c, ansi[3], N[3])\n",
        "\n",
        "# qc.append(HalfAdderGate(n), N[:] + b[:] + c[:])\n",
        "\n",
        "qc.measure(b, output)\n",
        "\n",
        "qc.draw()"
      ],
      "metadata": {
        "id": "y4CrX_vAcAfa",
        "outputId": "b8993cc2-45f1-41f5-8b12-05367000082a",
        "colab": {
          "base_uri": "https://localhost:8080/",
          "height": 587
        }
      },
      "execution_count": 127,
      "outputs": [
        {
          "output_type": "execute_result",
          "data": {
            "text/plain": [
              "        ┌───┐                            \n",
              "   A_0: ┤ X ├────────────────────────────\n",
              "        ├───┤                            \n",
              "   A_1: ┤ X ├────────────────────────────\n",
              "        └───┘                            \n",
              "   A_2: ─────────────────────────────────\n",
              "                                         \n",
              "   A_3: ─────────────────────────────────\n",
              "             ┌──────────────┐┌─┐         \n",
              "   B_0: ─────┤4             ├┤M├─────────\n",
              "             │              │└╥┘┌─┐      \n",
              "   B_1: ─────┤5             ├─╫─┤M├──────\n",
              "        ┌───┐│              │ ║ └╥┘┌─┐   \n",
              "   B_2: ┤ X ├┤6             ├─╫──╫─┤M├───\n",
              "        └───┘│              │ ║  ║ └╥┘┌─┐\n",
              "   B_3: ─────┤7             ├─╫──╫──╫─┤M├\n",
              "             │              │ ║  ║  ║ └╥┘\n",
              "     C: ─────┤8 circuit-529 ├─╫──╫──╫──╫─\n",
              "        ┌───┐│              │ ║  ║  ║  ║ \n",
              "   N_0: ┤ X ├┤0             ├─╫──╫──╫──╫─\n",
              "        └───┘│              │ ║  ║  ║  ║ \n",
              "   N_1: ─────┤1             ├─╫──╫──╫──╫─\n",
              "        ┌───┐│              │ ║  ║  ║  ║ \n",
              "   N_2: ┤ X ├┤2             ├─╫──╫──╫──╫─\n",
              "        └───┘│              │ ║  ║  ║  ║ \n",
              "   N_3: ─────┤3             ├─╫──╫──╫──╫─\n",
              "             └──────────────┘ ║  ║  ║  ║ \n",
              "ansi_0: ──────────────────────╫──╫──╫──╫─\n",
              "                              ║  ║  ║  ║ \n",
              "ansi_1: ──────────────────────╫──╫──╫──╫─\n",
              "                              ║  ║  ║  ║ \n",
              "ansi_2: ──────────────────────╫──╫──╫──╫─\n",
              "                              ║  ║  ║  ║ \n",
              "ansi_3: ──────────────────────╫──╫──╫──╫─\n",
              "                              ║  ║  ║  ║ \n",
              " c41: 4/══════════════════════╩══╩══╩══╩═\n",
              "                              0  1  2  3 "
            ],
            "text/html": [
              "<pre style=\"word-wrap: normal;white-space: pre;background: #fff0;line-height: 1.1;font-family: &quot;Courier New&quot;,Courier,monospace\">        ┌───┐                            \n",
              "   A_0: ┤ X ├────────────────────────────\n",
              "        ├───┤                            \n",
              "   A_1: ┤ X ├────────────────────────────\n",
              "        └───┘                            \n",
              "   A_2: ─────────────────────────────────\n",
              "                                         \n",
              "   A_3: ─────────────────────────────────\n",
              "             ┌──────────────┐┌─┐         \n",
              "   B_0: ─────┤4             ├┤M├─────────\n",
              "             │              │└╥┘┌─┐      \n",
              "   B_1: ─────┤5             ├─╫─┤M├──────\n",
              "        ┌───┐│              │ ║ └╥┘┌─┐   \n",
              "   B_2: ┤ X ├┤6             ├─╫──╫─┤M├───\n",
              "        └───┘│              │ ║  ║ └╥┘┌─┐\n",
              "   B_3: ─────┤7             ├─╫──╫──╫─┤M├\n",
              "             │              │ ║  ║  ║ └╥┘\n",
              "     C: ─────┤8 circuit-529 ├─╫──╫──╫──╫─\n",
              "        ┌───┐│              │ ║  ║  ║  ║ \n",
              "   N_0: ┤ X ├┤0             ├─╫──╫──╫──╫─\n",
              "        └───┘│              │ ║  ║  ║  ║ \n",
              "   N_1: ─────┤1             ├─╫──╫──╫──╫─\n",
              "        ┌───┐│              │ ║  ║  ║  ║ \n",
              "   N_2: ┤ X ├┤2             ├─╫──╫──╫──╫─\n",
              "        └───┘│              │ ║  ║  ║  ║ \n",
              "   N_3: ─────┤3             ├─╫──╫──╫──╫─\n",
              "             └──────────────┘ ║  ║  ║  ║ \n",
              "ansi_0: ──────────────────────╫──╫──╫──╫─\n",
              "                              ║  ║  ║  ║ \n",
              "ansi_1: ──────────────────────╫──╫──╫──╫─\n",
              "                              ║  ║  ║  ║ \n",
              "ansi_2: ──────────────────────╫──╫──╫──╫─\n",
              "                              ║  ║  ║  ║ \n",
              "ansi_3: ──────────────────────╫──╫──╫──╫─\n",
              "                              ║  ║  ║  ║ \n",
              " c41: 4/══════════════════════╩══╩══╩══╩═\n",
              "                              0  1  2  3 </pre>"
            ]
          },
          "metadata": {},
          "execution_count": 127
        }
      ]
    },
    {
      "cell_type": "code",
      "execution_count": 5,
      "metadata": {
        "id": "9U13oZrtZbra"
      },
      "outputs": [],
      "source": [
        "def iqft_cct(qc, b, n):\n",
        "    \"\"\"\n",
        "    The inverse QFT circuit\n",
        "\n",
        "    Args:\n",
        "\n",
        "        qc (QuantumCircuit):\n",
        "                The quantum circuit\n",
        "\n",
        "        b (QuantumRegister):\n",
        "                The target register\n",
        "\n",
        "        n (int):\n",
        "                The number of qubits in the registers to use\n",
        "\n",
        "    Returns:\n",
        "        None\n",
        "\n",
        "    \"\"\"\n",
        "\n",
        "    for i in range (n):\n",
        "        for j in range (1, i+1):\n",
        "            # for inverse transform, we have to use negative angles\n",
        "            qc.cp(-np.pi / 2** ( i -j + 1 ), b[j - 1], b[i])\n",
        "        # the H transform should be done after the rotations\n",
        "        qc.h(b[i])\n",
        "    qc.barrier()\n",
        "    return"
      ]
    },
    {
      "cell_type": "code",
      "execution_count": 10,
      "metadata": {
        "id": "3Q9JgX2vZbra",
        "outputId": "900c8335-d567-4578-be4e-3eec4d04f667",
        "colab": {
          "base_uri": "https://localhost:8080/",
          "height": 787
        }
      },
      "outputs": [
        {
          "output_type": "execute_result",
          "data": {
            "text/plain": [
              "      ┌───┐ ░                                                     ░ ┌───┐»\n",
              " q_0: ┤ H ├─░──────────────────────────────────────────■──────────░─┤ H ├»\n",
              "      ├───┤ ░                                          │          ░ └───┘»\n",
              " q_1: ┤ H ├─░─────────────────────────■────────────────┼──────────░──────»\n",
              "      ├───┤ ░                         │                │          ░      »\n",
              " q_2: ┤ H ├─░────────■────────────────┼────────────────┼──────────░──────»\n",
              "      └───┘ ░ ┌──────┴───────┐┌───────┴───────┐┌───────┴────────┐ ░      »\n",
              " q_3: ──────░─┤0             ├┤0              ├┤0               ├─░──────»\n",
              "            ░ │              ││               ││                │ ░      »\n",
              " q_4: ──────░─┤1             ├┤1              ├┤1               ├─░──────»\n",
              "            ░ │              ││               ││                │ ░      »\n",
              " q_5: ──────░─┤2             ├┤2              ├┤2               ├─░──────»\n",
              "      ┌───┐ ░ │              ││               ││                │ ░      »\n",
              " q_6: ┤ X ├─░─┤3             ├┤3              ├┤3               ├─░──────»\n",
              "      └───┘ ░ │  circuit-644 ││  circuit-3983 ││  circuit-27314 │ ░      »\n",
              " q_7: ──────░─┤4             ├┤4              ├┤4               ├─░──────»\n",
              "            ░ │              ││               ││                │ ░      »\n",
              " q_8: ──────░─┤5             ├┤5              ├┤5               ├─░──────»\n",
              "            ░ │              ││               ││                │ ░      »\n",
              " q_9: ──────░─┤6             ├┤6              ├┤6               ├─░──────»\n",
              "            ░ │              ││               ││                │ ░      »\n",
              "q_10: ──────░─┤7             ├┤7              ├┤7               ├─░──────»\n",
              "            ░ └──────────────┘└───────────────┘└────────────────┘ ░      »\n",
              " c: 4/═══════════════════════════════════════════════════════════════════»\n",
              "                                                                         »\n",
              "«                                               ░ ┌─┐      \n",
              "« q_0: ─■──────────────■────────────────────────░─┤M├──────\n",
              "«       │P(-π/2) ┌───┐ │                        ░ └╥┘┌─┐   \n",
              "« q_1: ─■────────┤ H ├─┼─────────■──────────────░──╫─┤M├───\n",
              "«                └───┘ │P(-π/4)  │P(-π/2) ┌───┐ ░  ║ └╥┘┌─┐\n",
              "« q_2: ────────────────■─────────■────────┤ H ├─░──╫──╫─┤M├\n",
              "«                                         └───┘ ░  ║  ║ └╥┘\n",
              "« q_3: ─────────────────────────────────────────░──╫──╫──╫─\n",
              "«                                               ░  ║  ║  ║ \n",
              "« q_4: ─────────────────────────────────────────░──╫──╫──╫─\n",
              "«                                               ░  ║  ║  ║ \n",
              "« q_5: ─────────────────────────────────────────░──╫──╫──╫─\n",
              "«                                               ░  ║  ║  ║ \n",
              "« q_6: ─────────────────────────────────────────░──╫──╫──╫─\n",
              "«                                               ░  ║  ║  ║ \n",
              "« q_7: ─────────────────────────────────────────░──╫──╫──╫─\n",
              "«                                               ░  ║  ║  ║ \n",
              "« q_8: ─────────────────────────────────────────░──╫──╫──╫─\n",
              "«                                               ░  ║  ║  ║ \n",
              "« q_9: ─────────────────────────────────────────░──╫──╫──╫─\n",
              "«                                               ░  ║  ║  ║ \n",
              "«q_10: ─────────────────────────────────────────░──╫──╫──╫─\n",
              "«                                               ░  ║  ║  ║ \n",
              "« c: 4/════════════════════════════════════════════╩══╩══╩═\n",
              "«                                                  0  1  2 "
            ],
            "text/html": [
              "<pre style=\"word-wrap: normal;white-space: pre;background: #fff0;line-height: 1.1;font-family: &quot;Courier New&quot;,Courier,monospace\">      ┌───┐ ░                                                     ░ ┌───┐»\n",
              " q_0: ┤ H ├─░──────────────────────────────────────────■──────────░─┤ H ├»\n",
              "      ├───┤ ░                                          │          ░ └───┘»\n",
              " q_1: ┤ H ├─░─────────────────────────■────────────────┼──────────░──────»\n",
              "      ├───┤ ░                         │                │          ░      »\n",
              " q_2: ┤ H ├─░────────■────────────────┼────────────────┼──────────░──────»\n",
              "      └───┘ ░ ┌──────┴───────┐┌───────┴───────┐┌───────┴────────┐ ░      »\n",
              " q_3: ──────░─┤0             ├┤0              ├┤0               ├─░──────»\n",
              "            ░ │              ││               ││                │ ░      »\n",
              " q_4: ──────░─┤1             ├┤1              ├┤1               ├─░──────»\n",
              "            ░ │              ││               ││                │ ░      »\n",
              " q_5: ──────░─┤2             ├┤2              ├┤2               ├─░──────»\n",
              "      ┌───┐ ░ │              ││               ││                │ ░      »\n",
              " q_6: ┤ X ├─░─┤3             ├┤3              ├┤3               ├─░──────»\n",
              "      └───┘ ░ │  circuit-644 ││  circuit-3983 ││  circuit-27314 │ ░      »\n",
              " q_7: ──────░─┤4             ├┤4              ├┤4               ├─░──────»\n",
              "            ░ │              ││               ││                │ ░      »\n",
              " q_8: ──────░─┤5             ├┤5              ├┤5               ├─░──────»\n",
              "            ░ │              ││               ││                │ ░      »\n",
              " q_9: ──────░─┤6             ├┤6              ├┤6               ├─░──────»\n",
              "            ░ │              ││               ││                │ ░      »\n",
              "q_10: ──────░─┤7             ├┤7              ├┤7               ├─░──────»\n",
              "            ░ └──────────────┘└───────────────┘└────────────────┘ ░      »\n",
              " c: 4/═══════════════════════════════════════════════════════════════════»\n",
              "                                                                         »\n",
              "«                                               ░ ┌─┐      \n",
              "« q_0: ─■──────────────■────────────────────────░─┤M├──────\n",
              "«       │P(-π/2) ┌───┐ │                        ░ └╥┘┌─┐   \n",
              "« q_1: ─■────────┤ H ├─┼─────────■──────────────░──╫─┤M├───\n",
              "«                └───┘ │P(-π/4)  │P(-π/2) ┌───┐ ░  ║ └╥┘┌─┐\n",
              "« q_2: ────────────────■─────────■────────┤ H ├─░──╫──╫─┤M├\n",
              "«                                         └───┘ ░  ║  ║ └╥┘\n",
              "« q_3: ─────────────────────────────────────────░──╫──╫──╫─\n",
              "«                                               ░  ║  ║  ║ \n",
              "« q_4: ─────────────────────────────────────────░──╫──╫──╫─\n",
              "«                                               ░  ║  ║  ║ \n",
              "« q_5: ─────────────────────────────────────────░──╫──╫──╫─\n",
              "«                                               ░  ║  ║  ║ \n",
              "« q_6: ─────────────────────────────────────────░──╫──╫──╫─\n",
              "«                                               ░  ║  ║  ║ \n",
              "« q_7: ─────────────────────────────────────────░──╫──╫──╫─\n",
              "«                                               ░  ║  ║  ║ \n",
              "« q_8: ─────────────────────────────────────────░──╫──╫──╫─\n",
              "«                                               ░  ║  ║  ║ \n",
              "« q_9: ─────────────────────────────────────────░──╫──╫──╫─\n",
              "«                                               ░  ║  ║  ║ \n",
              "«q_10: ─────────────────────────────────────────░──╫──╫──╫─\n",
              "«                                               ░  ║  ║  ║ \n",
              "« c: 4/════════════════════════════════════════════╩══╩══╩═\n",
              "«                                                  0  1  2 </pre>"
            ]
          },
          "metadata": {},
          "execution_count": 10
        }
      ],
      "source": [
        "num_size = 4\n",
        "q = QuantumRegister(2 * num_size + 3, 'q')\n",
        "c = ClassicalRegister(4 , 'c')\n",
        "qc = QuantumCircuit(q, c)\n",
        "\n",
        "# hadamard gates\n",
        "qc.h(0)\n",
        "qc.h(1)\n",
        "qc.h(2)\n",
        "\n",
        "# g_num = 3, start_num = 5\n",
        "qc.x(6)\n",
        "qc.draw()\n",
        "\n",
        "qc.barrier()\n",
        "\n",
        "# controlled multipliers\n",
        "for power in range(1, num_size + 1):\n",
        "    qc.append(exponent(7, power, num_size), [3 - power] + list(range(3, qc.num_qubits)) )\n",
        "\n",
        "qc.barrier()\n",
        "\n",
        "iqft_cct(qc, q, 3)\n",
        "\n",
        "# measure target qubits\n",
        "qc.measure(range(3), range(3))\n",
        "\n",
        "qc.draw()"
      ]
    },
    {
      "cell_type": "code",
      "execution_count": 128,
      "metadata": {
        "id": "AJzQ1B-mZbrb"
      },
      "outputs": [],
      "source": [
        "# transpile circuit to Quantum Rings backend\n",
        "qr_backend = QrBackendV2(provider, num_qubits = qc.num_qubits)\n",
        "qc_transpiled = transpile(qc, qr_backend, initial_layout=[i for i in range(0, qc.num_qubits)])"
      ]
    },
    {
      "cell_type": "code",
      "execution_count": 129,
      "metadata": {
        "id": "FmOmnaUOZbrb"
      },
      "outputs": [],
      "source": [
        "# Execute the quantum code\n",
        "job = qr_backend.run(qc_transpiled, shots = 1024)"
      ]
    },
    {
      "cell_type": "code",
      "execution_count": 130,
      "metadata": {
        "id": "eYO90ttoZbrc",
        "outputId": "d3c5015a-3b4c-457a-d959-87320ce4eb9a",
        "colab": {
          "base_uri": "https://localhost:8080/",
          "height": 454
        }
      },
      "outputs": [
        {
          "output_type": "execute_result",
          "data": {
            "text/plain": [
              "<Figure size 640x480 with 1 Axes>"
            ],
            "image/png": "[encoded data removed]"
          },
          "metadata": {},
          "execution_count": 130
        }
      ],
      "source": [
        "result = job.result()\n",
        "counts = result.get_counts()\n",
        "plot_histogram(counts)"
      ]
    },
    {
      "cell_type": "code",
      "execution_count": 55,
      "metadata": {
        "id": "xVhU06CZZbrd"
      },
      "outputs": [],
      "source": []
    }
  ],
  "metadata": {
    "colab": {
      "provenance": [],
      "include_colab_link": true
    },
    "kernelspec": {
      "display_name": ".venv",
      "language": "python",
      "name": "python3"
    },
    "language_info": {
      "codemirror_mode": {
        "name": "ipython",
        "version": 3
      },
      "file_extension": ".py",
      "mimetype": "text/x-python",
      "name": "python",
      "nbconvert_exporter": "python",
      "pygments_lexer": "ipython3",
      "version": "3.13.2"
    }
  },
  "nbformat": 4,
  "nbformat_minor": 0
}