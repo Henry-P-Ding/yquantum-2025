{
  "cells": [
    {
      "cell_type": "code",
      "source": [
        "!pip install QuantumRingsLib\n",
        "!pip install qiskit==1.3.1\n",
        "!pip install quantumrings-toolkit-qiskit"
      ],
      "metadata": {
        "id": "d32y7shs7ltG",
        "outputId": "50cd4fb0-5df6-46b5-a174-8eb292d3d7da",
        "colab": {
          "base_uri": "https://localhost:8080/"
        }
      },
      "execution_count": 3,
      "outputs": [
        {
          "output_type": "stream",
          "name": "stdout",
          "text": [
            "Collecting QuantumRingsLib\n",
            "  Downloading QuantumRingsLib-0.9.11-cp311-cp311-manylinux_2_34_x86_64.whl.metadata (21 kB)\n",
            "Downloading QuantumRingsLib-0.9.11-cp311-cp311-manylinux_2_34_x86_64.whl (1.5 MB)\n",
            "\u001b[2K   \u001b[90m━━━━━━━━━━━━━━━━━━━━━━━━━━━━━━━━━━━━━━━━\u001b[0m \u001b[32m1.5/1.5 MB\u001b[0m \u001b[31m11.8 MB/s\u001b[0m eta \u001b[36m0:00:00\u001b[0m\n",
            "\u001b[?25hInstalling collected packages: QuantumRingsLib\n",
            "Successfully installed QuantumRingsLib-0.9.11\n",
            "Collecting qiskit==1.3.1\n",
            "  Using cached qiskit-1.3.1-cp39-abi3-manylinux_2_17_x86_64.manylinux2014_x86_64.whl.metadata (12 kB)\n",
            "Collecting rustworkx>=0.15.0 (from qiskit==1.3.1)\n",
            "  Using cached rustworkx-0.16.0-cp39-abi3-manylinux_2_17_x86_64.manylinux2014_x86_64.whl.metadata (10 kB)\n",
            "Requirement already satisfied: numpy<3,>=1.17 in /usr/local/lib/python3.11/dist-packages (from qiskit==1.3.1) (2.0.2)\n",
            "Requirement already satisfied: scipy>=1.5 in /usr/local/lib/python3.11/dist-packages (from qiskit==1.3.1) (1.14.1)\n",
            "Requirement already satisfied: sympy>=1.3 in /usr/local/lib/python3.11/dist-packages (from qiskit==1.3.1) (1.13.1)\n",
            "Collecting dill>=0.3 (from qiskit==1.3.1)\n",
            "  Using cached dill-0.3.9-py3-none-any.whl.metadata (10 kB)\n",
            "Requirement already satisfied: python-dateutil>=2.8.0 in /usr/local/lib/python3.11/dist-packages (from qiskit==1.3.1) (2.8.2)\n",
            "Collecting stevedore>=3.0.0 (from qiskit==1.3.1)\n",
            "  Using cached stevedore-5.4.1-py3-none-any.whl.metadata (2.3 kB)\n",
            "Requirement already satisfied: typing-extensions in /usr/local/lib/python3.11/dist-packages (from qiskit==1.3.1) (4.13.1)\n",
            "Collecting symengine<0.14,>=0.11 (from qiskit==1.3.1)\n",
            "  Using cached symengine-0.13.0-cp311-cp311-manylinux_2_17_x86_64.manylinux2014_x86_64.whl.metadata (1.2 kB)\n",
            "Requirement already satisfied: six>=1.5 in /usr/local/lib/python3.11/dist-packages (from python-dateutil>=2.8.0->qiskit==1.3.1) (1.17.0)\n",
            "Collecting pbr>=2.0.0 (from stevedore>=3.0.0->qiskit==1.3.1)\n",
            "  Using cached pbr-6.1.1-py2.py3-none-any.whl.metadata (3.4 kB)\n",
            "Requirement already satisfied: mpmath<1.4,>=1.1.0 in /usr/local/lib/python3.11/dist-packages (from sympy>=1.3->qiskit==1.3.1) (1.3.0)\n",
            "Requirement already satisfied: setuptools in /usr/local/lib/python3.11/dist-packages (from pbr>=2.0.0->stevedore>=3.0.0->qiskit==1.3.1) (75.2.0)\n",
            "Using cached qiskit-1.3.1-cp39-abi3-manylinux_2_17_x86_64.manylinux2014_x86_64.whl (6.7 MB)\n",
            "Using cached dill-0.3.9-py3-none-any.whl (119 kB)\n",
            "Using cached rustworkx-0.16.0-cp39-abi3-manylinux_2_17_x86_64.manylinux2014_x86_64.whl (2.1 MB)\n",
            "Using cached stevedore-5.4.1-py3-none-any.whl (49 kB)\n",
            "Using cached symengine-0.13.0-cp311-cp311-manylinux_2_17_x86_64.manylinux2014_x86_64.whl (49.7 MB)\n",
            "Using cached pbr-6.1.1-py2.py3-none-any.whl (108 kB)\n",
            "Installing collected packages: symengine, rustworkx, pbr, dill, stevedore, qiskit\n",
            "Successfully installed dill-0.3.9 pbr-6.1.1 qiskit-1.3.1 rustworkx-0.16.0 stevedore-5.4.1 symengine-0.13.0\n",
            "Collecting quantumrings-toolkit-qiskit\n",
            "  Downloading quantumrings_toolkit_qiskit-0.1.10-py3-none-any.whl.metadata (15 kB)\n",
            "Requirement already satisfied: numpy in /usr/local/lib/python3.11/dist-packages (from quantumrings-toolkit-qiskit) (2.0.2)\n",
            "Requirement already satisfied: qiskit in /usr/local/lib/python3.11/dist-packages (from quantumrings-toolkit-qiskit) (1.3.1)\n",
            "Requirement already satisfied: QuantumRingsLib in /usr/local/lib/python3.11/dist-packages (from quantumrings-toolkit-qiskit) (0.9.11)\n",
            "Requirement already satisfied: rustworkx>=0.15.0 in /usr/local/lib/python3.11/dist-packages (from qiskit->quantumrings-toolkit-qiskit) (0.16.0)\n",
            "Requirement already satisfied: scipy>=1.5 in /usr/local/lib/python3.11/dist-packages (from qiskit->quantumrings-toolkit-qiskit) (1.14.1)\n",
            "Requirement already satisfied: sympy>=1.3 in /usr/local/lib/python3.11/dist-packages (from qiskit->quantumrings-toolkit-qiskit) (1.13.1)\n",
            "Requirement already satisfied: dill>=0.3 in /usr/local/lib/python3.11/dist-packages (from qiskit->quantumrings-toolkit-qiskit) (0.3.9)\n",
            "Requirement already satisfied: python-dateutil>=2.8.0 in /usr/local/lib/python3.11/dist-packages (from qiskit->quantumrings-toolkit-qiskit) (2.8.2)\n",
            "Requirement already satisfied: stevedore>=3.0.0 in /usr/local/lib/python3.11/dist-packages (from qiskit->quantumrings-toolkit-qiskit) (5.4.1)\n",
            "Requirement already satisfied: typing-extensions in /usr/local/lib/python3.11/dist-packages (from qiskit->quantumrings-toolkit-qiskit) (4.13.1)\n",
            "Requirement already satisfied: symengine<0.14,>=0.11 in /usr/local/lib/python3.11/dist-packages (from qiskit->quantumrings-toolkit-qiskit) (0.13.0)\n",
            "Requirement already satisfied: six>=1.5 in /usr/local/lib/python3.11/dist-packages (from python-dateutil>=2.8.0->qiskit->quantumrings-toolkit-qiskit) (1.17.0)\n",
            "Requirement already satisfied: pbr>=2.0.0 in /usr/local/lib/python3.11/dist-packages (from stevedore>=3.0.0->qiskit->quantumrings-toolkit-qiskit) (6.1.1)\n",
            "Requirement already satisfied: mpmath<1.4,>=1.1.0 in /usr/local/lib/python3.11/dist-packages (from sympy>=1.3->qiskit->quantumrings-toolkit-qiskit) (1.3.0)\n",
            "Requirement already satisfied: setuptools in /usr/local/lib/python3.11/dist-packages (from pbr>=2.0.0->stevedore>=3.0.0->qiskit->quantumrings-toolkit-qiskit) (75.2.0)\n",
            "Downloading quantumrings_toolkit_qiskit-0.1.10-py3-none-any.whl (51 kB)\n",
            "\u001b[2K   \u001b[90m━━━━━━━━━━━━━━━━━━━━━━━━━━━━━━━━━━━━━━━━\u001b[0m \u001b[32m51.7/51.7 kB\u001b[0m \u001b[31m1.9 MB/s\u001b[0m eta \u001b[36m0:00:00\u001b[0m\n",
            "\u001b[?25hInstalling collected packages: quantumrings-toolkit-qiskit\n",
            "Successfully installed quantumrings-toolkit-qiskit-0.1.10\n"
          ]
        }
      ]
    },
    {
      "cell_type": "code",
      "execution_count": 38,
      "metadata": {
        "id": "NKODzIv37lCJ"
      },
      "outputs": [],
      "source": [
        "from qiskit import QuantumCircuit, transpile, QuantumRegister, ClassicalRegister, AncillaRegister\n",
        "from qiskit.visualization import plot_histogram\n",
        "from matplotlib import pyplot as plt\n",
        "import numpy as np\n",
        "\n",
        "from QuantumRingsLib import QuantumRingsProvider\n",
        "from quantumrings.toolkit.qiskit import QrBackendV2"
      ]
    },
    {
      "cell_type": "code",
      "execution_count": 5,
      "metadata": {
        "id": "MKvTUD4X7lCL",
        "outputId": "3bfcb7e4-b1e7-410d-a73e-c528cd98e4b9",
        "colab": {
          "base_uri": "https://localhost:8080/"
        }
      },
      "outputs": [
        {
          "output_type": "stream",
          "name": "stdout",
          "text": [
            "Account Name:  khang.tran@princeton.edu \n",
            "Max Qubits:  128\n",
            "{'khang.tran@princeton.edu': 'rings-128.tFp5jv833mIYtWvhAcPilxZNHO0MGRw1'}\n"
          ]
        }
      ],
      "source": [
        "#Acquire the Quantum Rings Provider\n",
        "provider = QuantumRingsProvider(\n",
        "    token='rings-128.tFp5jv833mIYtWvhAcPilxZNHO0MGRw1',\n",
        "    name='khang.tran@princeton.edu'\n",
        ")\n",
        "print(\"Account Name: \", provider.active_account()[\"name\"], \"\\nMax Qubits: \", provider.active_account()[\"max_qubits\"])\n",
        "\n",
        "\n",
        "#Save the account locally.\n",
        "provider.save_account(\n",
        "    token='rings-128.tFp5jv833mIYtWvhAcPilxZNHO0MGRw1',\n",
        "    name='khang.tran@princeton.edu')\n",
        "print(provider.saved_accounts(False, \"default\"))"
      ]
    },
    {
      "cell_type": "code",
      "execution_count": 6,
      "metadata": {
        "id": "0uUVWUS07lCM"
      },
      "outputs": [],
      "source": [
        "def egcd(a, b):\n",
        "    if a == 0:\n",
        "        return (b, 0, 1)\n",
        "    else:\n",
        "        g, y, x = egcd(b % a, a)\n",
        "        return (g, x - (b // a) * y, y)\n",
        "\n",
        "def modinv(a, m):\n",
        "    g, x, y = egcd(a, m)\n",
        "    if g != 1:\n",
        "        raise Exception('modular inverse does not exist')\n",
        "    else:\n",
        "        return x % m"
      ]
    },
    {
      "cell_type": "code",
      "execution_count": 7,
      "metadata": {
        "id": "JMhxkRsg7lCM"
      },
      "outputs": [],
      "source": [
        "def getAngles(a,N):\n",
        "    s=bin(int(a))[2:].zfill(N)\n",
        "    angles=np.zeros([N])\n",
        "    for i in range(0, N):\n",
        "        for j in range(i,N):\n",
        "            if s[j]=='1':\n",
        "                angles[N-i-1]+=np.power(2.0, -(j-i))\n",
        "        angles[N-i-1]*=np.pi\n",
        "    return angles\n",
        "\n",
        "\"\"\"Creation of a doubly controlled phase gate\"\"\"\n",
        "def ccphase(circuit,angle,ctl1,ctl2,tgt):\n",
        "    # TODO: check if this is the same\n",
        "    #circuit.cu1(angle/2,ctl1,tgt)\n",
        "    circuit.cp(angle/2,ctl1,tgt)\n",
        "    circuit.cx(ctl2,ctl1)\n",
        "    #circuit.cu1(-angle/2,ctl1,tgt)\n",
        "    circuit.cp(-angle/2,ctl1,tgt)\n",
        "    circuit.cx(ctl2,ctl1)\n",
        "    #circuit.cu1(angle/2,ctl2,tgt)\n",
        "    circuit.cp(angle/2,ctl2,tgt)"
      ]
    },
    {
      "cell_type": "code",
      "execution_count": 8,
      "metadata": {
        "id": "SKefv3K77lCN"
      },
      "outputs": [],
      "source": [
        "def create_QFT(circuit : QuantumCircuit, up_reg : QuantumRegister, n, with_swaps):\n",
        "    i = n - 1\n",
        "    \"\"\" Apply the H gates and Cphases\"\"\"\n",
        "    \"\"\" The Cphases with |angle| < threshold are not created because they do\n",
        "    nothing. The threshold is put as being 0 so all CPhases are created,\n",
        "    but the clause is there so if wanted just need to change the 0 of the\n",
        "    if-clause to the desired value \"\"\"\n",
        "    while i >= 0:\n",
        "        circuit.h(up_reg[i])\n",
        "        j = i - 1\n",
        "        while j >= 0:\n",
        "            if (np.pi) / (pow(2, (i - j))) > 0:\n",
        "                # TODO: check cp cu1\n",
        "                #circuit.cu1((np.pi) / (pow(2, (i - j))), up_reg[i], up_reg[j])\n",
        "                circuit.cp((np.pi) / (pow(2, (i - j))), up_reg[i], up_reg[j])\n",
        "                j = j - 1\n",
        "        i = i - 1\n",
        "\n",
        "    \"\"\" If specified, apply the Swaps at the end \"\"\"\n",
        "    if with_swaps == 1:\n",
        "        i = 0\n",
        "        while i < ((n - 1) / 2):\n",
        "            circuit.swap(up_reg[i], up_reg[n - 1 - i])\n",
        "            i = i + 1\n",
        "\n",
        "def create_inverse_QFT(circuit, up_reg, n, with_swaps):\n",
        "    \"\"\"If specified, apply the Swaps at the beggining\"\"\"\n",
        "    if with_swaps == 1:\n",
        "        i = 0\n",
        "        while i < ((n - 1) / 2):\n",
        "            circuit.swap(up_reg[i], up_reg[n - 1 - i])\n",
        "            i = i + 1\n",
        "\n",
        "    \"\"\" Apply the H gates and Cphases\"\"\"\n",
        "    \"\"\" The Cphases with |angle| < threshold are not created because they do\n",
        "    nothing. The threshold is put as being 0 so all CPhases are created,\n",
        "    but the clause is there so if wanted just need to change the 0 of the\n",
        "    if-clause to the desired value \"\"\"\n",
        "    i = 0\n",
        "    while i < n:\n",
        "        circuit.h(up_reg[i])\n",
        "        if i != n - 1:\n",
        "            j = i + 1\n",
        "            y = i\n",
        "            while y >= 0:\n",
        "                if (np.pi) / (pow(2, (j - y))) > 0:\n",
        "                    # TODO: check cu1 u1\n",
        "                    #circuit.cu1(-(np.pi) / (pow(2, (j - y))), up_reg[j], up_reg[y])\n",
        "                    circuit.cp(-(np.pi) / (pow(2, (j - y))), up_reg[j], up_reg[y])\n",
        "                    y = y - 1\n",
        "        i = i + 1"
      ]
    },
    {
      "cell_type": "code",
      "execution_count": 9,
      "metadata": {
        "id": "QVfNO-Q27lCO"
      },
      "outputs": [],
      "source": [
        "\"\"\"Creation of the circuit that performs addition by a in Fourier Space\"\"\"\n",
        "\n",
        "\"\"\"Can also be used for subtraction by setting the parameter inv to a value different from 0\"\"\"\n",
        "\n",
        "\n",
        "def phiADD(circuit, q, a, N, inv):\n",
        "    angle = getAngles(a, N)\n",
        "    for i in range(0, N):\n",
        "        # TODO: check u1 p\n",
        "        if inv == 0:\n",
        "            #circuit.u1(angle[i], q[i])\n",
        "            circuit.p(angle[i], q[i])\n",
        "        else:\n",
        "            #circuit.u1(-angle[i], q[i])\n",
        "            circuit.p(-angle[i], q[i])\n",
        "\n",
        "\n",
        "\"\"\"Single controlled version of the phiADD circuit\"\"\"\n",
        "\n",
        "\n",
        "def cphiADD(circuit, q, ctl, a, n, inv):\n",
        "    angle = getAngles(a, n)\n",
        "    for i in range(0, n):\n",
        "        # TODO: check cp cu1\n",
        "        if inv == 0:\n",
        "            #circuit.cu1(angle[i], ctl, q[i])\n",
        "            circuit.cp(angle[i], ctl, q[i])\n",
        "        else:\n",
        "            #circuit.cu1(-angle[i], ctl, q[i])\n",
        "            circuit.cp(-angle[i], ctl, q[i])\n",
        "\n",
        "\n",
        "\"\"\"Doubly controlled version of the phiADD circuit\"\"\"\n",
        "\n",
        "\n",
        "def ccphiADD(circuit, q, ctl1, ctl2, a, n, inv):\n",
        "    angle = getAngles(a, n)\n",
        "    for i in range(0, n):\n",
        "        if inv == 0:\n",
        "            ccphase(circuit, angle[i], ctl1, ctl2, q[i])\n",
        "        else:\n",
        "            ccphase(circuit, -angle[i], ctl1, ctl2, q[i])\n",
        "\n",
        "\n",
        "\"\"\"Circuit that implements doubly controlled modular addition by a\"\"\"\n",
        "\n",
        "\n",
        "def ccphiADDmodN(circuit, q, ctl1, ctl2, aux, a, N, n):\n",
        "    ccphiADD(circuit, q, ctl1, ctl2, a, n, 0)\n",
        "    phiADD(circuit, q, N, n, 1)\n",
        "    create_inverse_QFT(circuit, q, n, 0)\n",
        "    circuit.cx(q[n - 1], aux)\n",
        "    create_QFT(circuit, q, n, 0)\n",
        "    cphiADD(circuit, q, aux, N, n, 0)\n",
        "\n",
        "    ccphiADD(circuit, q, ctl1, ctl2, a, n, 1)\n",
        "    create_inverse_QFT(circuit, q, n, 0)\n",
        "    circuit.x(q[n - 1])\n",
        "    circuit.cx(q[n - 1], aux)\n",
        "    circuit.x(q[n - 1])\n",
        "    create_QFT(circuit, q, n, 0)\n",
        "    ccphiADD(circuit, q, ctl1, ctl2, a, n, 0)\n",
        "\n",
        "\n",
        "\"\"\"Circuit that implements the inverse of doubly controlled modular addition by a\"\"\"\n",
        "\n",
        "\n",
        "def ccphiADDmodN_inv(circuit, q, ctl1, ctl2, aux, a, N, n):\n",
        "    ccphiADD(circuit, q, ctl1, ctl2, a, n, 1)\n",
        "    create_inverse_QFT(circuit, q, n, 0)\n",
        "    circuit.x(q[n - 1])\n",
        "    circuit.cx(q[n - 1], aux)\n",
        "    circuit.x(q[n - 1])\n",
        "    create_QFT(circuit, q, n, 0)\n",
        "    ccphiADD(circuit, q, ctl1, ctl2, a, n, 0)\n",
        "    cphiADD(circuit, q, aux, N, n, 1)\n",
        "    create_inverse_QFT(circuit, q, n, 0)\n",
        "    circuit.cx(q[n - 1], aux)\n",
        "    create_QFT(circuit, q, n, 0)\n",
        "    phiADD(circuit, q, N, n, 0)\n",
        "    ccphiADD(circuit, q, ctl1, ctl2, a, n, 1)"
      ]
    },
    {
      "cell_type": "code",
      "execution_count": 10,
      "metadata": {
        "id": "GEa9SRkX7lCO"
      },
      "outputs": [],
      "source": [
        "def cMULTmodN(circuit : QuantumCircuit, ctl, q, aux, a, semiprime, circuit_size):\n",
        "    create_QFT(circuit,aux,circuit_size+1,0)\n",
        "    \"\"\"Circuit that implements single controlled modular multiplication by a\"\"\"\n",
        "    for i in range(0, circuit_size):\n",
        "        ccphiADDmodN(circuit, aux, q[i], ctl, aux[circuit_size+1], (2**i)*a % semiprime, semiprime, circuit_size+1)\n",
        "    create_inverse_QFT(circuit, aux, circuit_size+1, 0)\n",
        "\n",
        "    for i in range(0, circuit_size):\n",
        "        circuit.cswap(ctl,q[i],aux[i])\n",
        "\n",
        "    a_inv = modinv(a, semiprime)\n",
        "    create_QFT(circuit, aux, circuit_size+1, 0)\n",
        "    i = circuit_size - 1\n",
        "    while i >= 0:\n",
        "        ccphiADDmodN_inv(circuit, aux, q[i], ctl, aux[circuit_size+1], np.power(2,i) * a_inv % semiprime, semiprime, circuit_size+1)\n",
        "        i -= 1\n",
        "    create_inverse_QFT(circuit, aux, circuit_size+1, 0)\n"
      ]
    },
    {
      "cell_type": "code",
      "execution_count": 22,
      "metadata": {
        "id": "9ZtR0ohE7lCO"
      },
      "outputs": [],
      "source": [
        "semiprime = 15\n",
        "base = 2 # TODO: implement coprime checker\n",
        "circuit_size = np.ceil(np.log2(semiprime)).astype(int)"
      ]
    },
    {
      "cell_type": "code",
      "execution_count": 23,
      "metadata": {
        "id": "L22m0tvT7lCO"
      },
      "outputs": [],
      "source": [
        "# auxilliary quantum register used in addition and multiplication\n",
        "aux = QuantumRegister(circuit_size+2)\n",
        "# quantum register where the sequential QFT is performed\n",
        "up_reg = QuantumRegister(2*circuit_size)\n",
        "# quantum register where the multiplications are made\n",
        "down_reg = QuantumRegister(circuit_size)\n",
        "# classical register where the measured values of the QFT are stored\n",
        "up_classic = ClassicalRegister(2*circuit_size)"
      ]
    },
    {
      "cell_type": "code",
      "execution_count": 24,
      "metadata": {
        "id": "0rYHdbw27lCP",
        "outputId": "66725672-7148-4fbe-d123-76b9628f30df",
        "colab": {
          "base_uri": "https://localhost:8080/"
        }
      },
      "outputs": [
        {
          "output_type": "execute_result",
          "data": {
            "text/plain": [
              "<qiskit.circuit.instructionset.InstructionSet at 0x795e89eb12a0>"
            ]
          },
          "metadata": {},
          "execution_count": 24
        }
      ],
      "source": [
        "circuit = QuantumCircuit(down_reg, up_reg, aux, up_classic)\n",
        "# Initialize down register to 1 and create maximal superposition in top register\n",
        "circuit.h(up_reg)\n",
        "circuit.x(down_reg[0])"
      ]
    },
    {
      "cell_type": "code",
      "execution_count": 25,
      "metadata": {
        "id": "IlWhK90f7lCP"
      },
      "outputs": [],
      "source": [
        "# Apply the multiplication gates as showed in the report in order to create the exponentiation \"\"\"\n",
        "for i in range(0, 2*circuit_size):\n",
        "    cMULTmodN(circuit, up_reg[i], down_reg, aux, int(pow(base, pow(2, i))), semiprime, circuit_size)"
      ]
    },
    {
      "cell_type": "code",
      "execution_count": 26,
      "metadata": {
        "id": "RMtEZgVF7lCR"
      },
      "outputs": [],
      "source": [
        "# Apply inverse QFT\n",
        "create_inverse_QFT(circuit, up_reg, 2 * circuit_size, 1)"
      ]
    },
    {
      "cell_type": "code",
      "execution_count": 27,
      "metadata": {
        "id": "iPN7cOZU7lCR",
        "outputId": "82cc3231-2aa0-4420-ca42-c66db65dd04c",
        "colab": {
          "base_uri": "https://localhost:8080/"
        }
      },
      "outputs": [
        {
          "output_type": "execute_result",
          "data": {
            "text/plain": [
              "<qiskit.circuit.instructionset.InstructionSet at 0x795e89eb0760>"
            ]
          },
          "metadata": {},
          "execution_count": 27
        }
      ],
      "source": [
        "# Measure the top qubits, to get period\n",
        "circuit.measure(up_reg,up_classic)"
      ]
    },
    {
      "cell_type": "code",
      "execution_count": 28,
      "metadata": {
        "id": "leXKuiAE7lCR",
        "outputId": "45c25ce1-b0e0-4e67-a4aa-85887ff8c429",
        "colab": {
          "base_uri": "https://localhost:8080/"
        }
      },
      "outputs": [
        {
          "output_type": "execute_result",
          "data": {
            "text/plain": [
              "18"
            ]
          },
          "metadata": {},
          "execution_count": 28
        }
      ],
      "source": [
        "circuit.num_qubits"
      ]
    },
    {
      "cell_type": "code",
      "execution_count": 29,
      "metadata": {
        "id": "Cjtv8RN47lCR"
      },
      "outputs": [],
      "source": [
        "# transpile circuit to Quantum Rings backend\n",
        "qr_backend = QrBackendV2(provider, num_qubits = circuit.num_qubits)\n",
        "qc_transpiled = transpile(circuit, qr_backend, initial_layout=[i for i in range(0, circuit.num_qubits)])"
      ]
    },
    {
      "cell_type": "code",
      "execution_count": 30,
      "metadata": {
        "id": "1toMA5UV7lCR"
      },
      "outputs": [],
      "source": [
        "# Execute the quantum code\n",
        "shots = 1024\n",
        "job = qr_backend.run(qc_transpiled, shots)"
      ]
    },
    {
      "cell_type": "code",
      "execution_count": 31,
      "metadata": {
        "id": "bBJty4vO7lCR",
        "outputId": "6271867f-b687-4106-df33-8bd85d65bd06",
        "colab": {
          "base_uri": "https://localhost:8080/",
          "height": 487
        }
      },
      "outputs": [
        {
          "output_type": "execute_result",
          "data": {
            "text/plain": [
              "<Figure size 640x480 with 1 Axes>"
            ],
            "image/png": "[encoded data removed]"
          },
          "metadata": {},
          "execution_count": 31
        }
      ],
      "source": [
        "result = job.result()\n",
        "counts = result.get_counts()\n",
        "plot_histogram(counts)"
      ]
    },
    {
      "cell_type": "code",
      "source": [
        "counts.keys()"
      ],
      "metadata": {
        "id": "p-Rbm0_l9EFH",
        "outputId": "4b5e90d0-e76c-438e-e1ee-7f89689179da",
        "colab": {
          "base_uri": "https://localhost:8080/"
        }
      },
      "execution_count": 36,
      "outputs": [
        {
          "output_type": "execute_result",
          "data": {
            "text/plain": [
              "dict_keys(['00000000', '01000000', '10000000', '11000000'])"
            ]
          },
          "metadata": {},
          "execution_count": 36
        }
      ]
    },
    {
      "cell_type": "code",
      "source": [
        "def get_factors(x_value,t_upper,N,a):\n",
        "\n",
        "    if x_value<=0:\n",
        "        print('x_value is <= 0, there are no continued fractions\\n')\n",
        "        return False\n",
        "\n",
        "    print('Running continued fractions for this case\\n')\n",
        "\n",
        "    \"\"\" Calculate T and x/T \"\"\"\n",
        "    T = pow(2,t_upper)\n",
        "\n",
        "    x_over_T = x_value/T\n",
        "\n",
        "    \"\"\" Cycle in which each iteration corresponds to putting one more term in the\n",
        "    calculation of the Continued Fraction (CF) of x/T \"\"\"\n",
        "\n",
        "    \"\"\" Initialize the first values according to CF rule \"\"\"\n",
        "    i=0\n",
        "    b = array.array('i')\n",
        "    t = array.array('f')\n",
        "\n",
        "    b.append(math.floor(x_over_T))\n",
        "    t.append(x_over_T - b[i])\n",
        "\n",
        "    while i>=0:\n",
        "\n",
        "        \"\"\"From the 2nd iteration onwards, calculate the new terms of the CF based\n",
        "        on the previous terms as the rule suggests\"\"\"\n",
        "\n",
        "        if i>0:\n",
        "            b.append( math.floor( 1 / (t[i-1]) ) )\n",
        "            t.append( ( 1 / (t[i-1]) ) - b[i] )\n",
        "\n",
        "        \"\"\" Calculate the CF using the known terms \"\"\"\n",
        "\n",
        "        aux = 0\n",
        "        j=i\n",
        "        while j>0:\n",
        "            aux = 1 / ( b[j] + aux )\n",
        "            j = j-1\n",
        "\n",
        "        aux = aux + b[0]\n",
        "\n",
        "        \"\"\"Get the denominator from the value obtained\"\"\"\n",
        "        frac = fractions.Fraction(aux).limit_denominator()\n",
        "        den=frac.denominator\n",
        "\n",
        "        print('Approximation number {0} of continued fractions:'.format(i+1))\n",
        "        print(\"Numerator:{0} \\t\\t Denominator: {1}\\n\".format(frac.numerator,frac.denominator))\n",
        "\n",
        "        \"\"\" Increment i for next iteration \"\"\"\n",
        "        i=i+1\n",
        "\n",
        "        if (den%2) == 1:\n",
        "            if i>=15:\n",
        "                print('Returning because have already done too much tries')\n",
        "                return False\n",
        "            print('Odd denominator, will try next iteration of continued fractions\\n')\n",
        "            continue\n",
        "\n",
        "        \"\"\" If denominator even, try to get factors of N \"\"\"\n",
        "\n",
        "        \"\"\" Get the exponential a^(r/2) \"\"\"\n",
        "\n",
        "        exponential = 0\n",
        "\n",
        "        if den<1000:\n",
        "            exponential=pow(a , (den/2))\n",
        "\n",
        "        \"\"\" Check if the value is too big or not \"\"\"\n",
        "        if math.isinf(exponential)==1 or exponential>1000000000:\n",
        "            print('Denominator of continued fraction is too big!\\n')\n",
        "            aux_out = input('Input number 1 if you want to continue searching, other if you do not: ')\n",
        "            if aux_out != '1':\n",
        "                return False\n",
        "            else:\n",
        "                continue\n",
        "\n",
        "        \"\"\"If the value is not to big (infinity), then get the right values and\n",
        "        do the proper gcd()\"\"\"\n",
        "\n",
        "        putting_plus = int(exponential + 1)\n",
        "\n",
        "        putting_minus = int(exponential - 1)\n",
        "\n",
        "        one_factor = math.gcd(putting_plus,N)\n",
        "        other_factor = math.gcd(putting_minus,N)\n",
        "\n",
        "        \"\"\" Check if the factors found are trivial factors or are the desired\n",
        "        factors \"\"\"\n",
        "\n",
        "        if one_factor==1 or one_factor==N or other_factor==1 or other_factor==N:\n",
        "            print('Found just trivial factors, not good enough\\n')\n",
        "            \"\"\" Check if the number has already been found, use i-1 because i was already incremented \"\"\"\n",
        "            if t[i-1]==0:\n",
        "                print('The continued fractions found exactly x_final/(2^(2n)) , leaving funtion\\n')\n",
        "                return False\n",
        "            if i<15:\n",
        "                aux_out = input('Input number 1 if you want to continue searching, other if you do not: ')\n",
        "                if aux_out != '1':\n",
        "                    return False\n",
        "            else:\n",
        "                \"\"\" Return if already too much tries and numbers are huge \"\"\"\n",
        "                print('Returning because have already done too many tries\\n')\n",
        "                return False\n",
        "        else:\n",
        "            print('The factors of {0} are {1} and {2}\\n'.format(N,one_factor,other_factor))\n",
        "            print('Found the desired factors!\\n')\n",
        "            return True"
      ],
      "metadata": {
        "id": "Tu0VBI0y9mhb"
      },
      "execution_count": null,
      "outputs": []
    },
    {
      "cell_type": "code",
      "source": [
        "i=0\n",
        "while i < len(counts):\n",
        "\n",
        "    \"\"\" Get the x_value from the final state qubits \"\"\"\n",
        "    output_desired = list(counts.keys())[i]\n",
        "    x_value = int(output_desired, 2)\n",
        "    prob_this_result = 100 * ( int( list(counts.values())[i] ) ) / (shots)\n",
        "\n",
        "    print(\"------> Analysing result {0}. This result happened in {1:.4f} % of all cases\\n\".format(output_desired,prob_this_result))\n",
        "\n",
        "    \"\"\" Print the final x_value to user \"\"\"\n",
        "    print('In decimal, x_final value for this result is: {0}\\n'.format(x_value))\n",
        "\n",
        "    \"\"\" Get the factors using the x value obtained \"\"\"\n",
        "    success = get_factors(int(x_value),int(2 * circuit_size),int(semiprime),int(base))\n",
        "\n",
        "    if success==True:\n",
        "        prob_success = prob_success + prob_this_result\n",
        "\n",
        "    i=i+1\n",
        "\n",
        "print(\"\\nUsing a={0}, found the factors of N={1} in {2:.4f} % of the cases\\n\".format(base,semiprime,prob_success))"
      ],
      "metadata": {
        "id": "7o1xF6PT8bd2",
        "outputId": "069a4826-2d2d-429d-d3c9-f5ad99add6e8",
        "colab": {
          "base_uri": "https://localhost:8080/",
          "height": 214
        }
      },
      "execution_count": 34,
      "outputs": [
        {
          "output_type": "error",
          "ename": "NameError",
          "evalue": "name 'counts_result' is not defined",
          "traceback": [
            "\u001b[0;31m---------------------------------------------------------------------------\u001b[0m",
            "\u001b[0;31mNameError\u001b[0m                                 Traceback (most recent call last)",
            "\u001b[0;32m<ipython-input-34-4e94c8e7220d>\u001b[0m in \u001b[0;36m<cell line: 0>\u001b[0;34m()\u001b[0m\n\u001b[1;32m      1\u001b[0m \u001b[0mi\u001b[0m\u001b[0;34m=\u001b[0m\u001b[0;36m0\u001b[0m\u001b[0;34m\u001b[0m\u001b[0;34m\u001b[0m\u001b[0m\n\u001b[0;32m----> 2\u001b[0;31m \u001b[0;32mwhile\u001b[0m \u001b[0mi\u001b[0m \u001b[0;34m<\u001b[0m \u001b[0mlen\u001b[0m\u001b[0;34m(\u001b[0m\u001b[0mcounts_result\u001b[0m\u001b[0;34m)\u001b[0m\u001b[0;34m:\u001b[0m\u001b[0;34m\u001b[0m\u001b[0;34m\u001b[0m\u001b[0m\n\u001b[0m\u001b[1;32m      3\u001b[0m \u001b[0;34m\u001b[0m\u001b[0m\n\u001b[1;32m      4\u001b[0m     \u001b[0;34m\"\"\" Get the x_value from the final state qubits \"\"\"\u001b[0m\u001b[0;34m\u001b[0m\u001b[0;34m\u001b[0m\u001b[0m\n\u001b[1;32m      5\u001b[0m     \u001b[0moutput_desired\u001b[0m \u001b[0;34m=\u001b[0m \u001b[0mlist\u001b[0m\u001b[0;34m(\u001b[0m\u001b[0msim_result\u001b[0m\u001b[0;34m.\u001b[0m\u001b[0mget_counts\u001b[0m\u001b[0;34m(\u001b[0m\u001b[0;34m)\u001b[0m\u001b[0;34m.\u001b[0m\u001b[0mkeys\u001b[0m\u001b[0;34m(\u001b[0m\u001b[0;34m)\u001b[0m\u001b[0;34m)\u001b[0m\u001b[0;34m[\u001b[0m\u001b[0mi\u001b[0m\u001b[0;34m]\u001b[0m\u001b[0;34m\u001b[0m\u001b[0;34m\u001b[0m\u001b[0m\n",
            "\u001b[0;31mNameError\u001b[0m: name 'counts_result' is not defined"
          ]
        }
      ]
    }
  ],
  "metadata": {
    "kernelspec": {
      "display_name": ".venv",
      "language": "python",
      "name": "python3"
    },
    "language_info": {
      "codemirror_mode": {
        "name": "ipython",
        "version": 3
      },
      "file_extension": ".py",
      "mimetype": "text/x-python",
      "name": "python",
      "nbconvert_exporter": "python",
      "pygments_lexer": "ipython3",
      "version": "3.13.2"
    },
    "colab": {
      "provenance": []
    }
  },
  "nbformat": 4,
  "nbformat_minor": 0
}