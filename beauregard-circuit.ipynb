{
  "cells": [
    {
      "cell_type": "code",
      "execution_count": 1,
      "metadata": {
        "id": "NKODzIv37lCJ"
      },
      "outputs": [],
      "source": [
        "from qiskit import QuantumCircuit, transpile, QuantumRegister, ClassicalRegister, AncillaRegister\n",
        "from qiskit.visualization import plot_histogram\n",
        "from matplotlib import pyplot as plt\n",
        "import numpy as np\n",
        "import array\n",
        "import math\n",
        "import fractions\n",
        "\n",
        "from QuantumRingsLib import QuantumRingsProvider\n",
        "from quantumrings.toolkit.qiskit import QrBackendV2"
      ]
    },
    {
      "cell_type": "code",
      "execution_count": 2,
      "metadata": {},
      "outputs": [],
      "source": [
        "# load API keys\n",
        "from dotenv import load_dotenv\n",
        "import os\n",
        "\n",
        "load_dotenv()\n",
        "QR_TOKEN = os.getenv(\"QR_TOKEN\")\n",
        "QR_NAME = os.getenv(\"QR_NAME\")\n",
        "\n",
        "# Acquire the Quantum Rings Provider\n",
        "qr_provider = QuantumRingsProvider(token=QR_TOKEN, name=QR_NAME)"
      ]
    },
    {
      "cell_type": "code",
      "execution_count": 3,
      "metadata": {
        "id": "0uUVWUS07lCM"
      },
      "outputs": [],
      "source": [
        "def modinv(a, m):\n",
        "    return pow(a, -1, m)"
      ]
    },
    {
      "cell_type": "code",
      "execution_count": 4,
      "metadata": {
        "id": "JMhxkRsg7lCM"
      },
      "outputs": [],
      "source": [
        "def getAngles(a,N):\n",
        "    s=bin(int(a))[2:].zfill(N)\n",
        "    angles=np.zeros([N])\n",
        "    for i in range(0, N):\n",
        "        for j in range(i,N):\n",
        "            if s[j]=='1':\n",
        "                angles[N-i-1]+=np.power(2.0, -(j-i))\n",
        "        angles[N-i-1]*=np.pi\n",
        "    return angles\n",
        "\n",
        "\"\"\"Creation of a doubly controlled phase gate\"\"\"\n",
        "def ccphase(circuit,angle,ctl1,ctl2,tgt):\n",
        "    # TODO: check if this is the same\n",
        "    #circuit.cu1(angle/2,ctl1,tgt)\n",
        "    circuit.cp(angle/2,ctl1,tgt)\n",
        "    circuit.cx(ctl2,ctl1)\n",
        "    #circuit.cu1(-angle/2,ctl1,tgt)\n",
        "    circuit.cp(-angle/2,ctl1,tgt)\n",
        "    circuit.cx(ctl2,ctl1)\n",
        "    #circuit.cu1(angle/2,ctl2,tgt)\n",
        "    circuit.cp(angle/2,ctl2,tgt)"
      ]
    },
    {
      "cell_type": "code",
      "execution_count": 5,
      "metadata": {
        "id": "SKefv3K77lCN"
      },
      "outputs": [],
      "source": [
        "def create_QFT(circuit : QuantumCircuit, up_reg : QuantumRegister, n, with_swaps):\n",
        "    i = n - 1\n",
        "    \"\"\" Apply the H gates and Cphases\"\"\"\n",
        "    \"\"\" The Cphases with |angle| < threshold are not created because they do\n",
        "    nothing. The threshold is put as being 0 so all CPhases are created,\n",
        "    but the clause is there so if wanted just need to change the 0 of the\n",
        "    if-clause to the desired value \"\"\"\n",
        "    while i >= 0:\n",
        "        circuit.h(up_reg[i])\n",
        "        j = i - 1\n",
        "        while j >= 0:\n",
        "            if (np.pi) / (pow(2, (i - j))) > 0:\n",
        "                # TODO: check cp cu1\n",
        "                #circuit.cu1((np.pi) / (pow(2, (i - j))), up_reg[i], up_reg[j])\n",
        "                circuit.cp((np.pi) / (pow(2, (i - j))), up_reg[i], up_reg[j])\n",
        "                j = j - 1\n",
        "        i = i - 1\n",
        "\n",
        "    \"\"\" If specified, apply the Swaps at the end \"\"\"\n",
        "    if with_swaps == 1:\n",
        "        i = 0\n",
        "        while i < ((n - 1) / 2):\n",
        "            circuit.swap(up_reg[i], up_reg[n - 1 - i])\n",
        "            i = i + 1\n",
        "\n",
        "def create_inverse_QFT(circuit, up_reg, n, with_swaps):\n",
        "    \"\"\"If specified, apply the Swaps at the beggining\"\"\"\n",
        "    if with_swaps == 1:\n",
        "        i = 0\n",
        "        while i < ((n - 1) / 2):\n",
        "            circuit.swap(up_reg[i], up_reg[n - 1 - i])\n",
        "            i = i + 1\n",
        "\n",
        "    \"\"\" Apply the H gates and Cphases\"\"\"\n",
        "    \"\"\" The Cphases with |angle| < threshold are not created because they do\n",
        "    nothing. The threshold is put as being 0 so all CPhases are created,\n",
        "    but the clause is there so if wanted just need to change the 0 of the\n",
        "    if-clause to the desired value \"\"\"\n",
        "    i = 0\n",
        "    while i < n:\n",
        "        circuit.h(up_reg[i])\n",
        "        if i != n - 1:\n",
        "            j = i + 1\n",
        "            y = i\n",
        "            while y >= 0:\n",
        "                if (np.pi) / (pow(2, (j - y))) > 0:\n",
        "                    # TODO: check cu1 u1\n",
        "                    #circuit.cu1(-(np.pi) / (pow(2, (j - y))), up_reg[j], up_reg[y])\n",
        "                    circuit.cp(-(np.pi) / (pow(2, (j - y))), up_reg[j], up_reg[y])\n",
        "                    y = y - 1\n",
        "        i = i + 1"
      ]
    },
    {
      "cell_type": "code",
      "execution_count": 6,
      "metadata": {
        "id": "QVfNO-Q27lCO"
      },
      "outputs": [],
      "source": [
        "\"\"\"Creation of the circuit that performs addition by a in Fourier Space\"\"\"\n",
        "\n",
        "\"\"\"Can also be used for subtraction by setting the parameter inv to a value different from 0\"\"\"\n",
        "\n",
        "\n",
        "def phiADD(circuit, q, a, N, inv):\n",
        "    angle = getAngles(a, N)\n",
        "    for i in range(0, N):\n",
        "        # TODO: check u1 p\n",
        "        if inv == 0:\n",
        "            #circuit.u1(angle[i], q[i])\n",
        "            circuit.p(angle[i], q[i])\n",
        "        else:\n",
        "            #circuit.u1(-angle[i], q[i])\n",
        "            circuit.p(-angle[i], q[i])\n",
        "\n",
        "\n",
        "\"\"\"Single controlled version of the phiADD circuit\"\"\"\n",
        "\n",
        "\n",
        "def cphiADD(circuit, q, ctl, a, n, inv):\n",
        "    angle = getAngles(a, n)\n",
        "    for i in range(0, n):\n",
        "        # TODO: check cp cu1\n",
        "        if inv == 0:\n",
        "            #circuit.cu1(angle[i], ctl, q[i])\n",
        "            circuit.cp(angle[i], ctl, q[i])\n",
        "        else:\n",
        "            #circuit.cu1(-angle[i], ctl, q[i])\n",
        "            circuit.cp(-angle[i], ctl, q[i])\n",
        "\n",
        "\n",
        "\"\"\"Doubly controlled version of the phiADD circuit\"\"\"\n",
        "\n",
        "\n",
        "def ccphiADD(circuit, q, ctl1, ctl2, a, n, inv):\n",
        "    angle = getAngles(a, n)\n",
        "    for i in range(0, n):\n",
        "        if inv == 0:\n",
        "            ccphase(circuit, angle[i], ctl1, ctl2, q[i])\n",
        "        else:\n",
        "            ccphase(circuit, -angle[i], ctl1, ctl2, q[i])\n",
        "\n",
        "\n",
        "\"\"\"Circuit that implements doubly controlled modular addition by a\"\"\"\n",
        "\n",
        "\n",
        "def ccphiADDmodN(circuit, q, ctl1, ctl2, aux, a, N, n):\n",
        "    ccphiADD(circuit, q, ctl1, ctl2, a, n, 0)\n",
        "    phiADD(circuit, q, N, n, 1)\n",
        "    create_inverse_QFT(circuit, q, n, 0)\n",
        "    circuit.cx(q[n - 1], aux)\n",
        "    create_QFT(circuit, q, n, 0)\n",
        "    cphiADD(circuit, q, aux, N, n, 0)\n",
        "\n",
        "    ccphiADD(circuit, q, ctl1, ctl2, a, n, 1)\n",
        "    create_inverse_QFT(circuit, q, n, 0)\n",
        "    circuit.x(q[n - 1])\n",
        "    circuit.cx(q[n - 1], aux)\n",
        "    circuit.x(q[n - 1])\n",
        "    create_QFT(circuit, q, n, 0)\n",
        "    ccphiADD(circuit, q, ctl1, ctl2, a, n, 0)\n",
        "\n",
        "\n",
        "\"\"\"Circuit that implements the inverse of doubly controlled modular addition by a\"\"\"\n",
        "\n",
        "\n",
        "def ccphiADDmodN_inv(circuit, q, ctl1, ctl2, aux, a, N, n):\n",
        "    ccphiADD(circuit, q, ctl1, ctl2, a, n, 1)\n",
        "    create_inverse_QFT(circuit, q, n, 0)\n",
        "    circuit.x(q[n - 1])\n",
        "    circuit.cx(q[n - 1], aux)\n",
        "    circuit.x(q[n - 1])\n",
        "    create_QFT(circuit, q, n, 0)\n",
        "    ccphiADD(circuit, q, ctl1, ctl2, a, n, 0)\n",
        "    cphiADD(circuit, q, aux, N, n, 1)\n",
        "    create_inverse_QFT(circuit, q, n, 0)\n",
        "    circuit.cx(q[n - 1], aux)\n",
        "    create_QFT(circuit, q, n, 0)\n",
        "    phiADD(circuit, q, N, n, 0)\n",
        "    ccphiADD(circuit, q, ctl1, ctl2, a, n, 1)"
      ]
    },
    {
      "cell_type": "code",
      "execution_count": 7,
      "metadata": {
        "id": "GEa9SRkX7lCO"
      },
      "outputs": [],
      "source": [
        "def cMULTmodN(circuit : QuantumCircuit, ctl, q, aux, a, semiprime, circuit_size):\n",
        "    create_QFT(circuit,aux,circuit_size+1,0)\n",
        "    \"\"\"Circuit that implements single controlled modular multiplication by a\"\"\"\n",
        "    for i in range(0, circuit_size):\n",
        "        ccphiADDmodN(circuit, aux, q[i], ctl, aux[circuit_size+1], (2**i)*a % semiprime, semiprime, circuit_size+1)\n",
        "    create_inverse_QFT(circuit, aux, circuit_size+1, 0)\n",
        "\n",
        "    for i in range(0, circuit_size):\n",
        "        circuit.cswap(ctl,q[i],aux[i])\n",
        "\n",
        "    a_inv = modinv(a, semiprime)\n",
        "    create_QFT(circuit, aux, circuit_size+1, 0)\n",
        "    i = circuit_size - 1\n",
        "    while i >= 0:\n",
        "        ccphiADDmodN_inv(circuit, aux, q[i], ctl, aux[circuit_size+1], np.power(2,i) * a_inv % semiprime, semiprime, circuit_size+1)\n",
        "        i -= 1\n",
        "    create_inverse_QFT(circuit, aux, circuit_size+1, 0)\n"
      ]
    },
    {
      "cell_type": "code",
      "execution_count": 8,
      "metadata": {},
      "outputs": [],
      "source": [
        "def get_factors(x_value, t_upper, N, a):\n",
        "\n",
        "    if x_value <= 0:\n",
        "        return None \n",
        "\n",
        "    T = np.power(2.0, t_upper)\n",
        "\n",
        "    x_over_T = x_value / T\n",
        "\n",
        "    # Cycle in which each iteration corresponds to putting one more term in the calculation of the Continued Fraction (CF) of x/T\n",
        "    # Initialize the first values according to CF rule\n",
        "    i = 0\n",
        "    b = array.array(\"i\")\n",
        "    t = array.array(\"f\")\n",
        "\n",
        "    b.append(np.floor(x_over_T).astype(int))\n",
        "    t.append(x_over_T - b[i])\n",
        "\n",
        "    while i >= 0:\n",
        "        # From the 2nd iteration onwards, calculate the new terms of the CF based on the previous terms as the rule suggests\n",
        "        if i > 0:\n",
        "            b.append(np.floor(1 / (t[i - 1])).astype(int))\n",
        "            t.append((1 / (t[i - 1])) - b[i])\n",
        "\n",
        "        # Calculate the CF using the known terms\n",
        "\n",
        "        aux = 0\n",
        "        j = i\n",
        "        while j > 0:\n",
        "            aux = 1 / (b[j] + aux)\n",
        "            j = j - 1\n",
        "\n",
        "        aux = aux + b[0]\n",
        "\n",
        "        # Get the denominator from the value obtained\n",
        "        frac = fractions.Fraction(aux).limit_denominator()\n",
        "        den = frac.denominator\n",
        "\n",
        "        # Increment i for next iteration\n",
        "        i = i + 1\n",
        "\n",
        "        if (den % 2) == 1:\n",
        "            if i >= 15:\n",
        "                # print('Returning because have already done too much tries')\n",
        "                return None \n",
        "            # print('Odd denominator, will try next iteration of continued fractions\\n')\n",
        "            continue\n",
        "\n",
        "        # If denominator even, try to get factors of N\n",
        "        # Get the exponential a^(r/2)\n",
        "        exponential = 0\n",
        "        if den < 1000:\n",
        "            exponential = pow(a, (den / 2))\n",
        "        # Check if the value is too big or not\n",
        "        if np.isinf(exponential) == 1 or exponential > 1000000000:\n",
        "            print(\"Denominator of continued fraction is too big!\\n\")\n",
        "            aux_out = input(\n",
        "                \"Input number 1 if you want to continue searching, other if you do not: \"\n",
        "            )\n",
        "            if aux_out != \"1\":\n",
        "                return None \n",
        "            else:\n",
        "                continue\n",
        "\n",
        "        # If the value is not to big (infinity), then get the right values and do the proper gcd()\n",
        "        putting_plus = int(exponential + 1)\n",
        "        putting_minus = int(exponential - 1)\n",
        "        one_factor = np.gcd(putting_plus, N)\n",
        "        other_factor = np.gcd(putting_minus, N)\n",
        "\n",
        "        # Check if the factors found are trivial factors or are the desired factors\n",
        "        if one_factor == 1 or one_factor == N or other_factor == 1 or other_factor == N:\n",
        "            # Check if the number has already been found, use i-1 because i was already incremented\n",
        "            if t[i - 1] == 0:\n",
        "                return None \n",
        "            if i < 15:\n",
        "                aux_out = input(\n",
        "                    \"Input number 1 if you want to continue searching, other if you do not: \"\n",
        "                )\n",
        "                if aux_out != \"1\":\n",
        "                    return None\n",
        "            else:\n",
        "                # Return if already too much tries and numbers are huge\n",
        "                return None\n",
        "        else:\n",
        "            return one_factor, other_factor"
      ]
    },
    {
      "cell_type": "code",
      "execution_count": 9,
      "metadata": {},
      "outputs": [],
      "source": [
        "#main method\n",
        "def run_qc(semiprime, base, qr_provider, shots):\n",
        "  semiprime = semiprime\n",
        "  base = base # TODO: implement coprime checker\n",
        "  circuit_size = np.ceil(np.log2(semiprime)).astype(int)\n",
        "\n",
        "  aux = QuantumRegister(circuit_size+2)\n",
        "  up_reg = QuantumRegister(2*circuit_size)\n",
        "  down_reg = QuantumRegister(circuit_size)\n",
        "  up_classic = ClassicalRegister(2*circuit_size)\n",
        "  circuit = QuantumCircuit(down_reg, up_reg, aux, up_classic)\n",
        "\n",
        "  #Initialize down register to 1 and create maximal superposition in top register\n",
        "  circuit.h(up_reg)\n",
        "  circuit.x(down_reg[0])\n",
        "\n",
        "  for i in range(0, 2*circuit_size):\n",
        "    cMULTmodN(circuit, up_reg[i], down_reg, aux, int(pow(base, pow(2, i))), semiprime, circuit_size)\n",
        "\n",
        "  create_inverse_QFT(circuit, up_reg, 2 * circuit_size, 1)\n",
        "  circuit.measure(up_reg,up_classic)\n",
        "\n",
        "  qr_backend = QrBackendV2(qr_provider, num_qubits = circuit.num_qubits)\n",
        "  qc_transpiled = transpile(circuit, qr_backend, initial_layout=[i for i in range(0, circuit.num_qubits)])\n",
        "\n",
        "  job = qr_backend.run(qc_transpiled, shots = shots)\n",
        "  result = job.result()\n",
        "  counts = result.get_counts()\n",
        "\n",
        "  return counts\n",
        "\n",
        "def find_factors(counts, semiprime, base, circuit_size):\n",
        "  for bitstring, count in counts.items():\n",
        "      x_value = int(bitstring, 2)\n",
        "      factors = get_factors(x_value, 2 * circuit_size, semiprime, base)\n",
        "\n",
        "  return factors\n"
      ]
    },
    {
      "cell_type": "code",
      "execution_count": null,
      "metadata": {},
      "outputs": [
        {
          "name": "stdout",
          "output_type": "stream",
          "text": [
            "Timing 3, 3\n",
            "Timing 3, 5\n",
            "Timing 3, 7\n",
            "Timing 3, 11\n",
            "Timing 3, 13\n",
            "Timing 5, 3\n",
            "Timing 5, 5\n",
            "Timing 5, 7\n",
            "Timing 5, 11\n",
            "Timing 5, 13\n",
            "Timing 7, 3\n",
            "Timing 7, 5\n",
            "Timing 7, 7\n",
            "Timing 7, 11\n",
            "Timing 7, 13\n",
            "Timing 11, 3\n",
            "Timing 11, 5\n",
            "Timing 11, 7\n",
            "Timing 11, 11\n",
            "Timing 11, 13\n",
            "Timing 13, 3\n",
            "Timing 13, 5\n",
            "Timing 13, 7\n",
            "Timing 13, 11\n",
            "Timing 13, 13\n"
          ]
        }
      ],
      "source": [
        "import time\n",
        "from tqdm import tqdm\n",
        "\n",
        "test_primes = [3, 5, 7, 11, 13]\n",
        "test_times = dict()\n",
        "for p1 in test_primes:\n",
        "    for p2 in test_primes:\n",
        "        if p1 * p2 > 100:\n",
        "            continue\n",
        "        print(f\"Timing {p1}, {p2}\")\n",
        "        start_time = time.time()\n",
        "        run_qc(p1 * p2, 8, qr_provider, 1)\n",
        "        test_times[(p1, p2)] = time.time() - start_time"
      ]
    },
    {
      "cell_type": "code",
      "execution_count": 20,
      "metadata": {},
      "outputs": [
        {
          "data": {
            "text/plain": [
              "{(3, 3): 0.37919020652770996,\n",
              " (3, 5): 0.4149918556213379,\n",
              " (3, 7): 0.8066871166229248,\n",
              " (3, 11): 5.46309494972229,\n",
              " (3, 13): 1.9344701766967773,\n",
              " (5, 3): 0.43819189071655273,\n",
              " (5, 5): 15.029420137405396,\n",
              " (5, 7): 2.365396022796631,\n",
              " (5, 11): 17.11075711250305,\n",
              " (5, 13): 3.6959638595581055,\n",
              " (7, 3): 0.8926241397857666,\n",
              " (7, 5): 2.373353958129883,\n",
              " (7, 7): 7.219818353652954,\n",
              " (7, 11): 16.170572996139526,\n",
              " (7, 13): 3.8500630855560303,\n",
              " (11, 3): 5.577238082885742,\n",
              " (11, 5): 17.50322723388672,\n",
              " (11, 7): 15.933000087738037,\n",
              " (11, 11): 416.82477474212646,\n",
              " (11, 13): 122.32455921173096,\n",
              " (13, 3): 1.9696178436279297,\n",
              " (13, 5): 3.666416883468628,\n",
              " (13, 7): 3.6661500930786133,\n",
              " (13, 11): 123.1491949558258,\n",
              " (13, 13): 582.4440021514893}"
            ]
          },
          "execution_count": 20,
          "metadata": {},
          "output_type": "execute_result"
        }
      ],
      "source": [
        "test_times"
      ]
    },
    {
      "cell_type": "code",
      "execution_count": 57,
      "metadata": {},
      "outputs": [
        {
          "data": {
            "text/plain": [
              "array([[9.00000000e+00, 1.50000000e+01, 2.10000000e+01, 3.30000000e+01,\n",
              "        3.90000000e+01, 1.50000000e+01, 2.50000000e+01, 3.50000000e+01,\n",
              "        5.50000000e+01, 6.50000000e+01, 2.10000000e+01, 3.50000000e+01,\n",
              "        4.90000000e+01, 7.70000000e+01, 9.10000000e+01, 3.30000000e+01,\n",
              "        5.50000000e+01, 7.70000000e+01, 1.21000000e+02, 1.43000000e+02,\n",
              "        3.90000000e+01, 6.50000000e+01, 9.10000000e+01, 1.43000000e+02,\n",
              "        1.69000000e+02],\n",
              "       [3.79190207e-01, 4.14991856e-01, 8.06687117e-01, 5.46309495e+00,\n",
              "        1.93447018e+00, 4.38191891e-01, 1.50294201e+01, 2.36539602e+00,\n",
              "        1.71107571e+01, 3.69596386e+00, 8.92624140e-01, 2.37335396e+00,\n",
              "        7.21981835e+00, 1.61705730e+01, 3.85006309e+00, 5.57723808e+00,\n",
              "        1.75032272e+01, 1.59330001e+01, 4.16824775e+02, 1.22324559e+02,\n",
              "        1.96961784e+00, 3.66641688e+00, 3.66615009e+00, 1.23149195e+02,\n",
              "        5.82444002e+02]])"
            ]
          },
          "execution_count": 57,
          "metadata": {},
          "output_type": "execute_result"
        }
      ],
      "source": [
        "prime_times = np.array([(np.prod(primes), time) for (primes, time) in test_times.items()]).T\n",
        "prime_times"
      ]
    },
    {
      "cell_type": "code",
      "execution_count": 87,
      "metadata": {},
      "outputs": [
        {
          "data": {
            "text/plain": [
              "(np.float64(2.2009867919766553), np.float64(0.0013618098073349058))"
            ]
          },
          "execution_count": 87,
          "metadata": {},
          "output_type": "execute_result"
        }
      ],
      "source": [
        "from scipy.optimize import curve_fit\n",
        "\n",
        "def time_power_law(prime, power, log_c):\n",
        "    return power * prime + log_c \n",
        "\n",
        "params, *_ = curve_fit(time_power_law, np.log(prime_times[0]), np.log(prime_times[1]))\n",
        "power, coeff = params[0], np.exp(params[1])\n",
        "power, coeff"
      ]
    },
    {
      "cell_type": "code",
      "execution_count": 89,
      "metadata": {},
      "outputs": [
        {
          "data": {
            "text/plain": [
              "[<matplotlib.lines.Line2D at 0x135f57c50>]"
            ]
          },
          "execution_count": 89,
          "metadata": {},
          "output_type": "execute_result"
        },
        {
          "data": {
            "image/png": "[encoded data removed]",
            "text/plain": [
              "<Figure size 640x480 with 1 Axes>"
            ]
          },
          "metadata": {},
          "output_type": "display_data"
        }
      ],
      "source": [
        "plt.plot(np.log(prime_times[0]), np.log(prime_times[1]), \"ro\")\n",
        "plt.plot(np.log(prime_times[0]), np.log(prime_times[0]) * power + np.log(coeff))"
      ]
    },
    {
      "cell_type": "code",
      "execution_count": 91,
      "metadata": {},
      "outputs": [
        {
          "data": {
            "text/plain": [
              "[<matplotlib.lines.Line2D at 0x14005a710>]"
            ]
          },
          "execution_count": 91,
          "metadata": {},
          "output_type": "execute_result"
        },
        {
          "data": {
            "image/png": "[encoded data removed]",
            "text/plain": [
              "<Figure size 640x480 with 1 Axes>"
            ]
          },
          "metadata": {},
          "output_type": "display_data"
        }
      ],
      "source": [
        "sample_space = np.linspace(1, 1e6, 30)\n",
        "plt.plot(sample_space, coeff * np.power(sample_space, power))\n",
        "plt.plot(prime_times[0], prime_times[1], \"ro\")"
      ]
    },
    {
      "cell_type": "code",
      "execution_count": null,
      "metadata": {},
      "outputs": [],
      "source": [
        "test_primes = [3, 5, 7, 11, 13]\n",
        "quantum_times = dict()\n",
        "init_times = dict()\n",
        "\n",
        "for p1 in test_primes:\n",
        "    for p2 in test_primes:\n",
        "        if p1 * p2 > 100:\n",
        "            continue\n",
        "        print(f\"Timing {p1}, {p2}\")\n",
        "        start_time = time.time()\n",
        "\n",
        "        semiprime = p1 * p2 \n",
        "        base = 8 \n",
        "        circuit_size = np.ceil(np.log2(semiprime)).astype(int)\n",
        "\n",
        "        aux = QuantumRegister(circuit_size+2)\n",
        "        up_reg = QuantumRegister(2*circuit_size)\n",
        "        down_reg = QuantumRegister(circuit_size)\n",
        "        up_classic = ClassicalRegister(2*circuit_size)\n",
        "        circuit = QuantumCircuit(down_reg, up_reg, aux, up_classic)\n",
        "\n",
        "        #Initialize down register to 1 and create maximal superposition in top register\n",
        "        circuit.h(up_reg)\n",
        "        circuit.x(down_reg[0])\n",
        "\n",
        "        for i in range(0, 2*circuit_size):\n",
        "            cMULTmodN(circuit, up_reg[i], down_reg, aux, int(pow(base, pow(2, i))), semiprime, circuit_size)\n",
        "\n",
        "        create_inverse_QFT(circuit, up_reg, 2 * circuit_size, 1)\n",
        "        circuit.measure(up_reg,up_classic)\n",
        "        \n",
        "        init_times[(p1, p2)]\n",
        "\n",
        "        qr_backend = QrBackendV2(qr_provider, num_qubits = circuit.num_qubits)\n",
        "        qc_transpiled = transpile(circuit, qr_backend, initial_layout=[i for i in range(0, circuit.num_qubits)])\n",
        "\n",
        "        job = qr_backend.run(qc_transpiled, shots = shots)\n",
        "        result = job.result()\n",
        "        counts = result.get_counts()\n",
        "        \n",
        "        quantum_times[(p1, p2)] = time.time() - start_time"
      ]
    }
  ],
  "metadata": {
    "colab": {
      "provenance": []
    },
    "kernelspec": {
      "display_name": ".venv",
      "language": "python",
      "name": "python3"
    },
    "language_info": {
      "codemirror_mode": {
        "name": "ipython",
        "version": 3
      },
      "file_extension": ".py",
      "mimetype": "text/x-python",
      "name": "python",
      "nbconvert_exporter": "python",
      "pygments_lexer": "ipython3",
      "version": "3.13.2"
    }
  },
  "nbformat": 4,
  "nbformat_minor": 0
}
